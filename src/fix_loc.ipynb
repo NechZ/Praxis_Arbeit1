{
 "cells": [
  {
   "cell_type": "code",
   "execution_count": null,
   "id": "initial_id",
   "metadata": {
    "ExecuteTime": {
     "end_time": "2024-10-30T12:47:58.364233Z",
     "start_time": "2024-10-30T12:47:58.361050Z"
    },
    "collapsed": true
   },
   "outputs": [],
   "source": [
    "import pandas as pd\n",
    "import numpy as np"
   ]
  },
  {
   "cell_type": "code",
   "execution_count": null,
   "id": "a0e08852435e6b2d",
   "metadata": {
    "ExecuteTime": {
     "end_time": "2024-10-30T12:47:58.384936Z",
     "start_time": "2024-10-30T12:47:58.371873Z"
    }
   },
   "outputs": [],
   "source": [
    "data = pd.read_csv(\"../data/merged_data_old.csv\")"
   ]
  },
  {
   "cell_type": "code",
   "execution_count": null,
   "id": "1950cb496f0886a5",
   "metadata": {
    "ExecuteTime": {
     "end_time": "2024-10-30T12:47:58.397343Z",
     "start_time": "2024-10-30T12:47:58.394022Z"
    }
   },
   "outputs": [],
   "source": [
    "#data.to_csv(\"../data/merged_data_old.csv\", index=False)"
   ]
  },
  {
   "cell_type": "code",
   "execution_count": null,
   "id": "8cee5d4f9229960",
   "metadata": {
    "ExecuteTime": {
     "end_time": "2024-10-30T12:47:58.419744Z",
     "start_time": "2024-10-30T12:47:58.409080Z"
    }
   },
   "outputs": [],
   "source": [
    "data.drop_duplicates(subset=[\"Equipment ID\"],keep='first', inplace=True)\n",
    "data.info()\n"
   ]
  },
  {
   "cell_type": "code",
   "execution_count": null,
   "id": "a8ddb9b093425658",
   "metadata": {
    "ExecuteTime": {
     "end_time": "2024-10-30T12:47:58.446172Z",
     "start_time": "2024-10-30T12:47:58.436332Z"
    }
   },
   "outputs": [],
   "source": [
    "# Create a function to add randomness\n",
    "def add_randomness_to_coordinates(df, lat_col='lat', lon_col='lon', epsilon=1e-2):\n",
    "    # Find duplicates based on lat and lon\n",
    "    duplicates = df[df.duplicated(subset=[lat_col, lon_col], keep=False)]\n",
    "    \n",
    "    print(duplicates.shape)\n",
    "    \n",
    "    # Add small random noise to lat and lon for duplicates\n",
    "    df.loc[duplicates.index, lat_col] += np.random.uniform(-epsilon, epsilon, size=len(duplicates))\n",
    "    df.loc[duplicates.index, lon_col] += np.random.uniform(-epsilon, epsilon, size=len(duplicates))\n",
    "    \n",
    "    return df\n",
    "\n",
    "# Assuming df is your DataFrame\n",
    "data = add_randomness_to_coordinates(data)\n",
    "\n",
    "# Display the modified DataFrame\n",
    "print(data)"
   ]
  },
  {
   "cell_type": "code",
   "execution_count": null,
   "id": "ebbc795b2179dc4d",
   "metadata": {
    "ExecuteTime": {
     "end_time": "2024-10-30T12:47:58.634240Z",
     "start_time": "2024-10-30T12:47:58.601888Z"
    }
   },
   "outputs": [],
   "source": [
    "data.to_csv(\"../data/merged_data.csv\", index=False)\n",
    "\n",
    "duplicates = data[data.duplicated(subset=[\"lat\", \"lon\"], keep=False)]\n",
    "    \n",
    "print(duplicates.shape)"
   ]
  }
 ],
 "metadata": {
  "kernelspec": {
   "display_name": "Python 3",
   "language": "python",
   "name": "python3"
  },
  "language_info": {
   "codemirror_mode": {
    "name": "ipython",
    "version": 2
   },
   "file_extension": ".py",
   "mimetype": "text/x-python",
   "name": "python",
   "nbconvert_exporter": "python",
   "pygments_lexer": "ipython2",
   "version": "2.7.6"
  }
 },
 "nbformat": 4,
 "nbformat_minor": 5
}
