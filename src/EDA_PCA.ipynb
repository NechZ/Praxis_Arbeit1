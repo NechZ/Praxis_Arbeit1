{
 "cells": [
  {
   "cell_type": "code",
   "execution_count": null,
   "id": "initial_id",
   "metadata": {
    "ExecuteTime": {
     "end_time": "2024-10-24T10:57:13.497512Z",
     "start_time": "2024-10-24T10:57:13.492181Z"
    },
    "collapsed": true
   },
   "outputs": [],
   "source": [
    "from heapq import merge\n",
    "\n",
    "import pandas as pd\n",
    "import numpy as np\n",
    "import matplotlib.pyplot as plt\n",
    "from cartopy import crs as ccrs\n",
    "from cartopy import feature as cfeature\n",
    "from sklearn.decomposition import PCA\n",
    "from sklearn.preprocessing import StandardScaler\n",
    "import plotly.graph_objects as go\n",
    "from sklearn.cluster import DBSCAN"
   ]
  },
  {
   "cell_type": "code",
   "execution_count": null,
   "id": "dfcad76ed64eebdc",
   "metadata": {
    "ExecuteTime": {
     "end_time": "2024-10-24T10:57:13.713243Z",
     "start_time": "2024-10-24T10:57:13.659701Z"
    }
   },
   "outputs": [],
   "source": [
    "equipment_data = pd.read_csv('../data/equipment.csv')\n",
    "meldung_data = pd.read_csv('../data/Locker_Meldungen_Aufträge.csv')\n",
    "anzahl_meldungen = pd.read_csv('../data/Anzahl_Meldungen.csv', delimiter=';')"
   ]
  },
  {
   "cell_type": "code",
   "execution_count": null,
   "id": "1f2aa13cb511e8d2",
   "metadata": {
    "ExecuteTime": {
     "end_time": "2024-10-24T10:57:13.735123Z",
     "start_time": "2024-10-24T10:57:13.725388Z"
    }
   },
   "outputs": [],
   "source": [
    "meldung_data.info()"
   ]
  },
  {
   "cell_type": "code",
   "execution_count": null,
   "id": "c0c1098d5604c068",
   "metadata": {
    "ExecuteTime": {
     "end_time": "2024-10-24T10:57:13.867780Z",
     "start_time": "2024-10-24T10:57:13.857214Z"
    }
   },
   "outputs": [],
   "source": [
    "meldung_data.head()"
   ]
  },
  {
   "cell_type": "code",
   "execution_count": null,
   "id": "7c9386f09d066f3d",
   "metadata": {
    "ExecuteTime": {
     "end_time": "2024-10-24T10:57:13.925352Z",
     "start_time": "2024-10-24T10:57:13.913712Z"
    }
   },
   "outputs": [],
   "source": [
    "equipment_data.info()"
   ]
  },
  {
   "cell_type": "code",
   "execution_count": null,
   "id": "dce615ab8899495f",
   "metadata": {
    "ExecuteTime": {
     "end_time": "2024-10-24T10:57:14.037740Z",
     "start_time": "2024-10-24T10:57:14.033981Z"
    }
   },
   "outputs": [],
   "source": [
    "def extract_id(old: pd.Series) -> pd.Series:\n",
    "    print(old.str.split(' ').str[1])\n",
    "    new = old.str.split(' ').str[1]\n",
    "    return new.astype(int)"
   ]
  },
  {
   "cell_type": "code",
   "execution_count": null,
   "id": "68a0149d647a361a",
   "metadata": {
    "ExecuteTime": {
     "end_time": "2024-10-24T10:57:14.317643Z",
     "start_time": "2024-10-24T10:57:14.310860Z"
    }
   },
   "outputs": [],
   "source": [
    "filter_i = meldung_data[\"Equipment\"].str.contains(\"LÖVM\")\n",
    "meldung_data = meldung_data[~filter_i]"
   ]
  },
  {
   "cell_type": "code",
   "execution_count": null,
   "id": "4d7b5d788857b1",
   "metadata": {
    "ExecuteTime": {
     "end_time": "2024-10-24T10:57:14.390959Z",
     "start_time": "2024-10-24T10:57:14.372723Z"
    }
   },
   "outputs": [],
   "source": [
    "anzahl_meldungen.Equipment = extract_id(anzahl_meldungen.Equipment)"
   ]
  },
  {
   "cell_type": "code",
   "execution_count": null,
   "id": "b3cbec26e8177ab5",
   "metadata": {
    "ExecuteTime": {
     "end_time": "2024-10-24T10:57:14.435426Z",
     "start_time": "2024-10-24T10:57:14.426638Z"
    }
   },
   "outputs": [],
   "source": [
    "meldung_data.Equipment = extract_id(meldung_data.Equipment)"
   ]
  },
  {
   "cell_type": "code",
   "execution_count": null,
   "id": "81379c1cab013853",
   "metadata": {
    "ExecuteTime": {
     "end_time": "2024-10-24T10:57:14.475227Z",
     "start_time": "2024-10-24T10:57:14.464737Z"
    }
   },
   "outputs": [],
   "source": [
    "meldung_data.info()"
   ]
  },
  {
   "cell_type": "code",
   "execution_count": null,
   "id": "d48dedc1500dfaad",
   "metadata": {
    "ExecuteTime": {
     "end_time": "2024-10-24T10:57:14.550529Z",
     "start_time": "2024-10-24T10:57:14.542586Z"
    }
   },
   "outputs": [],
   "source": [
    "anzahl_meldungen[\"Equipment\"].astype(int)\n",
    "anzahl_meldungen.info()"
   ]
  },
  {
   "cell_type": "code",
   "execution_count": null,
   "id": "dc3412af9fe6d30a",
   "metadata": {
    "ExecuteTime": {
     "end_time": "2024-10-24T10:57:14.586776Z",
     "start_time": "2024-10-24T10:57:14.581645Z"
    }
   },
   "outputs": [],
   "source": [
    "#anzahl_meldungen = meldung_data.groupby(\"Equipment\")[\"Meldung\"].count().reset_index()\n",
    "anzahl_meldungen.rename(columns={\"Anzahl Sätze\": \"Anzahl Meldungen\"}, inplace=True)"
   ]
  },
  {
   "cell_type": "code",
   "execution_count": null,
   "id": "a8002289e1e21593",
   "metadata": {
    "ExecuteTime": {
     "end_time": "2024-10-24T10:57:14.629668Z",
     "start_time": "2024-10-24T10:57:14.622850Z"
    }
   },
   "outputs": [],
   "source": [
    "merged_df = pd.merge(equipment_data, anzahl_meldungen, how='left', on='Equipment')"
   ]
  },
  {
   "cell_type": "code",
   "execution_count": null,
   "id": "6b4b793481b47f3",
   "metadata": {
    "ExecuteTime": {
     "end_time": "2024-10-24T10:57:14.670129Z",
     "start_time": "2024-10-24T10:57:14.666326Z"
    }
   },
   "outputs": [],
   "source": [
    "merged_df.rename(columns={\"Equipment\": \"Equipment ID\"}, inplace=True)"
   ]
  },
  {
   "cell_type": "code",
   "execution_count": null,
   "id": "725411f0142f8a25",
   "metadata": {
    "ExecuteTime": {
     "end_time": "2024-10-24T10:57:14.714335Z",
     "start_time": "2024-10-24T10:57:14.704472Z"
    }
   },
   "outputs": [],
   "source": [
    "merged_df.info()"
   ]
  },
  {
   "cell_type": "code",
   "execution_count": null,
   "id": "7df14559c0cac452",
   "metadata": {
    "ExecuteTime": {
     "end_time": "2024-10-24T10:57:14.750995Z",
     "start_time": "2024-10-24T10:57:14.745028Z"
    }
   },
   "outputs": [],
   "source": [
    "columns_to_keep = [\"Equipment ID\", \"Anzahl Meldungen\", \"lat\", \"lon\", \"Zyklus Wartung\"]\n",
    "merged_df = merged_df[columns_to_keep]"
   ]
  },
  {
   "cell_type": "code",
   "execution_count": null,
   "id": "6ef7791184a6368d",
   "metadata": {
    "ExecuteTime": {
     "end_time": "2024-10-24T10:57:14.787847Z",
     "start_time": "2024-10-24T10:57:14.784378Z"
    }
   },
   "outputs": [],
   "source": [
    "# Replace Zyklus Wartung with Numbers\n",
    "def zyklus_in_int(zyklus: str) -> int:\n",
    "    if zyklus == \"6M\":\n",
    "        zyklus = 6 * 30\n",
    "    elif zyklus == \"1J\":\n",
    "        zyklus = 365\n",
    "    elif zyklus == \"2J\":\n",
    "        zyklus = 365 * 2\n",
    "    elif zyklus == \"4J\":\n",
    "        zyklus = 365 * 4\n",
    "    return zyklus"
   ]
  },
  {
   "cell_type": "code",
   "execution_count": null,
   "id": "d9711a93a0e893aa",
   "metadata": {
    "ExecuteTime": {
     "end_time": "2024-10-24T10:57:14.824651Z",
     "start_time": "2024-10-24T10:57:14.817594Z"
    }
   },
   "outputs": [],
   "source": [
    "merged_df[\"Zyklus Wartung\"] = merged_df[\"Zyklus Wartung\"].apply(zyklus_in_int)"
   ]
  },
  {
   "cell_type": "code",
   "execution_count": null,
   "id": "1925349b78d04f78",
   "metadata": {
    "ExecuteTime": {
     "end_time": "2024-10-24T10:57:14.863558Z",
     "start_time": "2024-10-24T10:57:14.856050Z"
    }
   },
   "outputs": [],
   "source": [
    "print(np.round(merged_df.max(), 2), \"\\n\", np.round(merged_df.min(), 2))\n"
   ]
  },
  {
   "cell_type": "code",
   "execution_count": null,
   "id": "69fea14df8365ce7",
   "metadata": {
    "ExecuteTime": {
     "end_time": "2024-10-24T10:57:14.972602Z",
     "start_time": "2024-10-24T10:57:14.942806Z"
    }
   },
   "outputs": [],
   "source": [
    "merged_df.to_csv('../data/merged_data.csv', index=False)"
   ]
  },
  {
   "cell_type": "code",
   "execution_count": null,
   "id": "2ba46379f5b3351d",
   "metadata": {
    "ExecuteTime": {
     "end_time": "2024-10-24T10:57:15.013999Z",
     "start_time": "2024-10-24T10:57:15.008189Z"
    }
   },
   "outputs": [],
   "source": [
    "# Separate the 'equipment_id' column\n",
    "equipment_id = merged_df['Equipment ID']\n",
    "features = merged_df.drop(columns=['Equipment ID'])\n",
    "\n",
    "# Scale only the feature columns\n",
    "scaler = StandardScaler()\n",
    "features_scaled = scaler.fit_transform(features)\n",
    "features_scaled = pd.DataFrame(features_scaled, columns=features.columns)"
   ]
  },
  {
   "cell_type": "code",
   "execution_count": null,
   "id": "c59a78d22335db08",
   "metadata": {
    "ExecuteTime": {
     "end_time": "2024-10-24T10:57:15.048762Z",
     "start_time": "2024-10-24T10:57:15.042571Z"
    }
   },
   "outputs": [],
   "source": [
    "corr = features_scaled.corr()\n",
    "print(corr)"
   ]
  },
  {
   "cell_type": "code",
   "execution_count": null,
   "id": "66bd39989f7e62be",
   "metadata": {
    "ExecuteTime": {
     "end_time": "2024-10-24T10:57:15.123211Z",
     "start_time": "2024-10-24T10:57:15.117187Z"
    }
   },
   "outputs": [],
   "source": [
    "pca = PCA(n_components=3)\n",
    "features_scaled_pca = pca.fit_transform(features_scaled)\n",
    "features_scaled_pca = pd.DataFrame(features_scaled_pca, columns=[\"PCA\", \"PCA_2\", \"PCA_3\"])"
   ]
  },
  {
   "cell_type": "code",
   "execution_count": null,
   "id": "2fdde8197b6573f3",
   "metadata": {
    "ExecuteTime": {
     "end_time": "2024-10-24T10:57:15.167162Z",
     "start_time": "2024-10-24T10:57:15.163233Z"
    }
   },
   "outputs": [],
   "source": [
    "print(pca.explained_variance_ratio_)"
   ]
  },
  {
   "cell_type": "code",
   "execution_count": null,
   "id": "43ebb7a8bf1a96f7",
   "metadata": {
    "ExecuteTime": {
     "end_time": "2024-10-24T10:57:15.241472Z",
     "start_time": "2024-10-24T10:57:15.237092Z"
    }
   },
   "outputs": [],
   "source": [
    "X_train = pd.concat([merged_df['Equipment ID'], features_scaled_pca], axis=1)"
   ]
  },
  {
   "cell_type": "code",
   "execution_count": null,
   "id": "9b28f63e656720ab",
   "metadata": {
    "ExecuteTime": {
     "end_time": "2024-10-24T10:57:15.361211Z",
     "start_time": "2024-10-24T10:57:15.270904Z"
    }
   },
   "outputs": [],
   "source": [
    "dbscan = DBSCAN(eps=0.25, min_samples=100)\n",
    "labels = dbscan.fit_predict(X_train[['PCA', 'PCA_2', 'PCA_3']])"
   ]
  },
  {
   "cell_type": "code",
   "execution_count": null,
   "id": "70244dacbb6f76e3",
   "metadata": {
    "ExecuteTime": {
     "end_time": "2024-10-24T10:57:15.393621Z",
     "start_time": "2024-10-24T10:57:15.388772Z"
    }
   },
   "outputs": [],
   "source": [
    "num_clusters = len(set(labels) - {-1})\n",
    "\n",
    "print(f\"Number of clusters: {num_clusters}\")"
   ]
  },
  {
   "cell_type": "code",
   "execution_count": null,
   "id": "25b1183939733c5f",
   "metadata": {
    "ExecuteTime": {
     "end_time": "2024-10-24T10:57:15.426312Z",
     "start_time": "2024-10-24T10:57:15.422254Z"
    }
   },
   "outputs": [],
   "source": [
    "X_train.loc[:, 'cluster'] = labels"
   ]
  },
  {
   "cell_type": "code",
   "execution_count": null,
   "id": "d91b1a3cf793809e",
   "metadata": {
    "ExecuteTime": {
     "end_time": "2024-10-24T10:57:15.520642Z",
     "start_time": "2024-10-24T10:57:15.456419Z"
    }
   },
   "outputs": [],
   "source": [
    "fig = go.Figure()  # Create a 3D scatter plot using Plotly Graph Objects\n",
    "\n",
    "fig.add_trace(go.Scatter3d(\n",
    "    x=X_train[\"PCA\"],\n",
    "    y=X_train[\"PCA_2\"],\n",
    "    z=X_train[\"PCA_3\"],\n",
    "    mode='markers',\n",
    "    marker=dict(\n",
    "        size=8,\n",
    "        color=X_train[\"cluster\"],\n",
    "        colorscale='Viridis',  # Color scale\n",
    "        opacity=0.8,\n",
    "        colorbar=dict(title='Cluster')\n",
    "    ),\n",
    "    hovertemplate='<b>PC:</b> %{z}<br><b>Lat:</b> %{y}<br><b>Lon:</b> %{x}'\n",
    "))\n",
    "# Update layout for better visualization\n",
    "fig.update_layout(\n",
    "    title='3D Scatter Plot of Equipment Clusters in Germany',\n",
    "    scene=dict(\n",
    "        xaxis=dict(title='Longitude'),\n",
    "        yaxis=dict(title='Latitude'),\n",
    "        zaxis=dict(title='PC'),\n",
    "        aspectmode='cube'  # Ensure aspect ratio is equal\n",
    "    )\n",
    ")\n",
    "\n",
    "fig.show()"
   ]
  },
  {
   "cell_type": "code",
   "execution_count": null,
   "id": "8b1976c38e2c330",
   "metadata": {
    "ExecuteTime": {
     "end_time": "2024-10-24T10:57:15.641678Z",
     "start_time": "2024-10-24T10:57:15.630574Z"
    }
   },
   "outputs": [],
   "source": [
    "# Calculate centroid of each cluster\n",
    "cluster_centers = X_train.groupby('cluster')[['PCA', 'PCA_2', 'PCA_3']].mean().reset_index()\n",
    "\n",
    "reduce_maintenance = []\n",
    "increase_maintenance = []\n",
    "\n",
    "for centroid in cluster_centers.itertuples():\n",
    "    print(centroid)\n",
    "    if centroid.cluster == -1:\n",
    "        continue\n",
    "    if centroid.PCA >= 1:\n",
    "        increase_maintenance.append(centroid)\n",
    "    elif centroid.PCA < 5:\n",
    "        reduce_maintenance.append(centroid)\n",
    "\n",
    "reduce_maintenance = pd.DataFrame(reduce_maintenance)\n",
    "increase_maintenance = pd.DataFrame(increase_maintenance)"
   ]
  },
  {
   "cell_type": "code",
   "execution_count": null,
   "id": "d227c8110c96ac12",
   "metadata": {
    "ExecuteTime": {
     "end_time": "2024-10-24T10:57:15.780158Z",
     "start_time": "2024-10-24T10:57:15.693317Z"
    }
   },
   "outputs": [],
   "source": [
    "# Create a 3D scatter plot using Plotly Graph Objects\n",
    "fig = go.Figure()\n",
    "\n",
    "if len(reduce_maintenance) > 0:    \n",
    "    reduce_maintenance_equipment = X_train[X_train['cluster'].isin(reduce_maintenance['cluster'])]\n",
    "    \n",
    "    fig.add_trace(go.Scatter3d(\n",
    "        x=reduce_maintenance_equipment['lon'],\n",
    "        y=reduce_maintenance_equipment['lat'],\n",
    "        z=reduce_maintenance_equipment['PCA'],\n",
    "        mode='markers',\n",
    "        marker=dict(\n",
    "            size=8,\n",
    "            color='green',\n",
    "            colorscale='Viridis',              # Color scale\n",
    "            opacity=0.8,\n",
    "            colorbar=dict(title='Cluster')\n",
    "        ),\n",
    "        hovertemplate='<b>PC:</b> %{z}<br><b>Lat:</b> %{y}<br><b>Lon:</b> %{x}'\n",
    "    ))\n",
    "\n",
    "if len(increase_maintenance) > 0:    \n",
    "    increase_maintenance_equipment = X_train[X_train['cluster'].isin(increase_maintenance['cluster'])]\n",
    "    \n",
    "    fig.add_trace(go.Scatter3d(\n",
    "        x=increase_maintenance_equipment['lon'],\n",
    "        y=increase_maintenance_equipment['lat'],\n",
    "        z=increase_maintenance_equipment['incident_count'],\n",
    "        mode='markers',\n",
    "        marker=dict(\n",
    "            size=8,\n",
    "            color='red',\n",
    "            colorscale='Viridis',              # Color scale\n",
    "            opacity=0.8,\n",
    "            colorbar=dict(title='Cluster')\n",
    "        ),\n",
    "        hovertemplate='<b>PC:</b> %{z}<br><b>Lat:</b> %{y}<br><b>Lon:</b> %{x}'\n",
    "    ))\n",
    "\n",
    "\n",
    "# Update layout for better visualization\n",
    "fig.update_layout(\n",
    "    title='3D Scatter Plot of Equipment Clusters in Germany',\n",
    "    scene=dict(\n",
    "        xaxis=dict(title='Longitude'),\n",
    "        yaxis=dict(title='Latitude'),\n",
    "        zaxis=dict(title='PC'),\n",
    "        aspectmode='cube'  # Ensure aspect ratio is equal\n",
    "    )\n",
    ")\n",
    "\n",
    "fig.show()\n",
    "\n",
    "# Save the plot as an HTML file\n",
    "fig.write_html('../plots/result_PCA.html')"
   ]
  },
  {
   "cell_type": "code",
   "execution_count": null,
   "id": "fa24e5e5b972192d",
   "metadata": {
    "ExecuteTime": {
     "end_time": "2024-10-24T10:57:15.806609300Z",
     "start_time": "2024-10-18T13:25:34.525382Z"
    }
   },
   "outputs": [],
   "source": [
    "# Assign colors\n",
    "\n",
    "if len(increase_maintenance) > 0:\n",
    "    increase_maintenance_equipment.loc[:, 'color'] = 'red'\n",
    "else: \n",
    "    combined = reduce_maintenance_equipment\n",
    "if len(reduce_maintenance) > 0:\n",
    "    reduce_maintenance_equipment.loc[:, 'color'] = 'green'\n",
    "else:\n",
    "    combined = increase_maintenance_equipment\n",
    "if len(reduce_maintenance) > 0 and len(increase_maintenance) > 0:\n",
    "    combined = pd.concat([reduce_maintenance_equipment, increase_maintenance_equipment])\n",
    "\n",
    "# Create the plot\n",
    "fig, ax = plt.subplots(figsize=(10, 10), subplot_kw={'projection': ccrs.PlateCarree()})\n",
    "\n",
    "# Add geographical features\n",
    "ax.add_feature(cfeature.BORDERS, linestyle='-')\n",
    "ax.add_feature(cfeature.LAND, facecolor='white')\n",
    "ax.add_feature(cfeature.OCEAN, facecolor='lightblue')\n",
    "ax.add_feature(cfeature.COASTLINE, zorder=5)\n",
    "\n",
    "# Plot data points\n",
    "for color, group in combined.groupby('color'):\n",
    "    print(f\"Plotting color: {color} with {len(group)} points\")  # Debugging statement\n",
    "    ax.scatter(group['lon'], group['lat'], color=color, s=100, alpha=0.7, transform=ccrs.PlateCarree())\n",
    "\n",
    "# Set plot title and extent\n",
    "ax.set_title('Equipment Clusters in Germany')\n",
    "ax.set_extent([5, 15, 47, 55], crs=ccrs.PlateCarree())\n",
    "\n",
    "# Add legend\n",
    "ax.legend(['Reduce Maintenance', 'Increase Maintenance'], loc='upper left')\n",
    "\n",
    "# Save the plot as an image\n",
    "plt.savefig('../plots/cluster_plot_incidents.svg', bbox_inches='tight')\n",
    "\n",
    "# Show the plot\n",
    "plt.show()"
   ]
  }
 ],
 "metadata": {
  "kernelspec": {
   "display_name": "Python 3",
   "language": "python",
   "name": "python3"
  },
  "language_info": {
   "codemirror_mode": {
    "name": "ipython",
    "version": 2
   },
   "file_extension": ".py",
   "mimetype": "text/x-python",
   "name": "python",
   "nbconvert_exporter": "python",
   "pygments_lexer": "ipython2",
   "version": "2.7.6"
  }
 },
 "nbformat": 4,
 "nbformat_minor": 5
}
