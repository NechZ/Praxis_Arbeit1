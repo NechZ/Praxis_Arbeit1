{
 "cells": [
  {
   "cell_type": "code",
   "execution_count": null,
   "metadata": {
    "ExecuteTime": {
     "end_time": "2024-10-30T12:48:13.709169Z",
     "start_time": "2024-10-30T12:48:13.704455Z"
    }
   },
   "outputs": [],
   "source": [
    "# Import libraries\n",
    "import pandas as pd\n",
    "import numpy as np\n",
    "import csv\n",
    "import plotly.graph_objects as go\n",
    "import matplotlib.pyplot as plt\n",
    "from PIL.ImageColor import colormap\n",
    "from cartopy import crs as ccrs\n",
    "from cartopy import feature as cfeature\n",
    "from sklearn.cluster import DBSCAN\n",
    "from sklearn.preprocessing import StandardScaler, Normalizer, MinMaxScaler\n",
    "from sklearn.decomposition import PCA   \n",
    "from sklearn.metrics import silhouette_score\n",
    "from scipy.interpolate import griddata\n",
    "from scipy.spatial import KDTree\n",
    "\n",
    "from joblib import Parallel, delayed\n",
    "from typing import Tuple"
   ]
  },
  {
   "cell_type": "code",
   "execution_count": null,
   "metadata": {
    "ExecuteTime": {
     "end_time": "2024-10-30T12:48:13.812580Z",
     "start_time": "2024-10-30T12:48:13.798980Z"
    }
   },
   "outputs": [],
   "source": [
    "# Load the data\n",
    "equipment = pd.read_csv('../data/merged_data.csv', delimiter=',')"
   ]
  },
  {
   "cell_type": "code",
   "execution_count": null,
   "metadata": {
    "ExecuteTime": {
     "end_time": "2024-10-30T12:48:13.827608Z",
     "start_time": "2024-10-30T12:48:13.820099Z"
    }
   },
   "outputs": [],
   "source": [
    "equipment.info()"
   ]
  },
  {
   "cell_type": "code",
   "execution_count": null,
   "metadata": {
    "ExecuteTime": {
     "end_time": "2024-10-30T12:48:14.043707Z",
     "start_time": "2024-10-30T12:48:13.978356Z"
    }
   },
   "outputs": [],
   "source": [
    "# Create a 3D scatter plot using Plotly Graph Objects\n",
    "fig = go.Figure()\n",
    "\n",
    "# Add trace for non-noise clusters\n",
    "fig.add_trace(go.Scatter3d(\n",
    "    x=equipment['lon'],\n",
    "    y=equipment['lat'],\n",
    "    z=equipment['Anzahl Meldungen'],\n",
    "    mode='markers',\n",
    "    marker=dict(\n",
    "        size=8,\n",
    "        color=\"purple\",  # Color by cluster\n",
    "        colorscale='Viridis',              # Color scale\n",
    "        opacity=0.8,\n",
    "        colorbar=dict(title='Cluster')\n",
    "    ),\n",
    "    text=equipment['Anzahl Meldungen'],  # Hover text\n",
    "    hovertemplate='<b>Incident count:</b> %{text}<br><b>Lat:</b> %{y}<br><b>Lon:</b> %{x} <br><b>Cluster:</b> %{marker.color}'\n",
    "))\n",
    "\n",
    "fig.write_html('../plots/test.html')"
   ]
  },
  {
   "cell_type": "code",
   "execution_count": null,
   "metadata": {
    "ExecuteTime": {
     "end_time": "2024-10-30T12:48:14.058893Z",
     "start_time": "2024-10-30T12:48:14.053298Z"
    }
   },
   "outputs": [],
   "source": [
    "equipment.drop_duplicates(subset=[\"Equipment ID\"], inplace=True)"
   ]
  },
  {
   "cell_type": "code",
   "execution_count": null,
   "metadata": {
    "ExecuteTime": {
     "end_time": "2024-10-30T12:48:14.221452Z",
     "start_time": "2024-10-30T12:48:14.120120Z"
    }
   },
   "outputs": [],
   "source": [
    "equipment['lat'].hist(bins=50)\n",
    "plt.xlabel(\"latitude\")\n",
    "plt.ylabel(\"Frequency\")\n",
    "plt.show()"
   ]
  },
  {
   "cell_type": "code",
   "execution_count": null,
   "metadata": {
    "ExecuteTime": {
     "end_time": "2024-10-30T12:48:14.472629Z",
     "start_time": "2024-10-30T12:48:14.278006Z"
    }
   },
   "outputs": [],
   "source": [
    "equipment['lon'].hist(bins=50)\n",
    "plt.xlabel(\"longitude\")\n",
    "plt.ylabel(\"Frequency\")\n",
    "plt.show()"
   ]
  },
  {
   "cell_type": "code",
   "execution_count": null,
   "metadata": {
    "ExecuteTime": {
     "end_time": "2024-10-30T12:48:14.643211Z",
     "start_time": "2024-10-30T12:48:14.522955Z"
    }
   },
   "outputs": [],
   "source": [
    "equipment['Anzahl Meldungen'].hist(bins=50)\n",
    "print(equipment['Anzahl Meldungen'].mean())\n",
    "plt.xlabel(\"Incident Count\")\n",
    "plt.ylabel(\"Frequency\")\n",
    "\n",
    "plt.savefig(\"../plots/hist_inc.svg\", format='svg')\n",
    "plt.show()"
   ]
  },
  {
   "cell_type": "code",
   "execution_count": null,
   "metadata": {
    "ExecuteTime": {
     "end_time": "2024-10-30T12:48:14.816706Z",
     "start_time": "2024-10-30T12:48:14.698672Z"
    }
   },
   "outputs": [],
   "source": [
    "equipment['Zyklus Wartung'].hist(bins=50)\n",
    "plt.xlabel(\"Zyklus Wartung\")\n",
    "plt.ylabel(\"Frequency\")\n",
    "\n",
    "plt.savefig(\"../plots/hist_zyk.svg\", format='svg')\n",
    "plt.show()"
   ]
  },
  {
   "cell_type": "code",
   "execution_count": null,
   "metadata": {
    "ExecuteTime": {
     "end_time": "2024-10-30T12:48:14.878866Z",
     "start_time": "2024-10-30T12:48:14.873846Z"
    }
   },
   "outputs": [],
   "source": [
    "equipment.rename(columns={\"Anzahl Meldungen\": \"incident_count\", \"Equipment ID\": \"Equipment\"}, inplace=True)"
   ]
  },
  {
   "cell_type": "code",
   "execution_count": null,
   "metadata": {
    "ExecuteTime": {
     "end_time": "2024-10-30T12:48:16.763553Z",
     "start_time": "2024-10-30T12:48:14.928201Z"
    }
   },
   "outputs": [],
   "source": [
    "# Create Contour graph\n",
    "lat_values = np.linspace(equipment['lat'].min(), equipment['lat'].max(), 50)\n",
    "lon_values = np.linspace(equipment['lon'].min(), equipment['lon'].max(), 50)\n",
    "lat_grid, lon_grid = np.meshgrid(lat_values, lon_values)\n",
    "\n",
    "# Interpolate Incident values for the grid (for visualization purposes)\n",
    "incident_grid = griddata((equipment['lat'], equipment['lon']), equipment['Zyklus Wartung'], (lat_grid, lon_grid), method='linear')\n",
    "\n",
    "plt.contourf(lon_grid, lat_grid, incident_grid, cmap='viridis')\n",
    "plt.colorbar()\n",
    "\n",
    "plt.savefig(\"../plots/zyklus_\")"
   ]
  },
  {
   "cell_type": "code",
   "execution_count": null,
   "metadata": {
    "ExecuteTime": {
     "end_time": "2024-10-30T12:48:17.044619Z",
     "start_time": "2024-10-30T12:48:16.825335Z"
    }
   },
   "outputs": [],
   "source": [
    "plt.figure(figsize=(5,11.8/2))\n",
    "plt.scatter(equipment[\"lon\"], equipment[\"lat\"], s=5)\n",
    "plt.savefig(\"../plots/equipment_scatter.svg\", format='svg')\n",
    "plt.show()"
   ]
  },
  {
   "cell_type": "code",
   "execution_count": null,
   "metadata": {
    "ExecuteTime": {
     "end_time": "2024-10-30T12:48:19.744981Z",
     "start_time": "2024-10-30T12:48:17.094332Z"
    }
   },
   "outputs": [],
   "source": [
    "combined = equipment\n",
    "\n",
    "# Create the plot\n",
    "fig, ax = plt.subplots(figsize=(10, 10), subplot_kw={'projection': ccrs.PlateCarree()})\n",
    "\n",
    "# Add geographical features\n",
    "ax.add_feature(cfeature.BORDERS, linestyle='-')\n",
    "ax.add_feature(cfeature.LAND, facecolor='white')\n",
    "ax.add_feature(cfeature.OCEAN, facecolor='lightblue')\n",
    "ax.add_feature(cfeature.COASTLINE, zorder=5)\n",
    "\n",
    "# Plot data points\n",
    "\n",
    "ax.scatter(combined['lon'], combined['lat'], c=combined['Zyklus Wartung'], s=100, alpha=0.7, transform=ccrs.PlateCarree())\n",
    "\n",
    "# Set plot title and extent\n",
    "ax.set_title('Equipment Clusters in Germany')\n",
    "ax.set_extent([5, 15, 47, 55], crs=ccrs.PlateCarree())\n",
    "\n",
    "# Save the plot as an SVG image\n",
    "plt.savefig('../plots/cluster_plot_zyklus_before.svg', format='svg')\n",
    "\n",
    "# Show the plot\n",
    "plt.show()"
   ]
  },
  {
   "cell_type": "code",
   "execution_count": null,
   "metadata": {
    "ExecuteTime": {
     "end_time": "2024-10-30T12:48:21.220302Z",
     "start_time": "2024-10-30T12:48:19.797784Z"
    }
   },
   "outputs": [],
   "source": [
    "from scipy.stats import entropy\n",
    "\n",
    "# Define a function to calculate entropy for a given column\n",
    "def calculate_entropy(column):\n",
    "    # Calculate the frequency of each bin/category\n",
    "    value_counts = column.value_counts()\n",
    "    # Calculate the probability distribution\n",
    "    probabilities = value_counts / len(column)\n",
    "    # Calculate the entropy\n",
    "    return entropy(probabilities)\n",
    "\n",
    "# Group by 'Zyklus_Wartung'\n",
    "grouped = equipment.groupby('Zyklus Wartung')\n",
    "\n",
    "# Calculate entropy for lat and lon within each group\n",
    "entropy_results = []\n",
    "\n",
    "for name, group in grouped:\n",
    "    # Discretize lat and lon into bins\n",
    "    group['lat_bins'] = pd.cut(group['lat'], bins=10000)\n",
    "    group['lon_bins'] = pd.cut(group['lon'], bins=10000)\n",
    "    \n",
    "    # Calculate entropy for the binned lat and lon columns\n",
    "    lat_entropy = calculate_entropy(group['lat_bins'])\n",
    "    lon_entropy = calculate_entropy(group['lon_bins'])\n",
    "    \n",
    "    entropy_results.append({\n",
    "        'Zyklus_Wartung': name,\n",
    "        'lat_entropy': lat_entropy,\n",
    "        'lon_entropy': lon_entropy\n",
    "    })\n",
    "\n",
    "# Convert results to a DataFrame for better visualization\n",
    "entropy_df = pd.DataFrame(entropy_results)\n",
    "print(entropy_df)"
   ]
  },
  {
   "cell_type": "code",
   "execution_count": null,
   "metadata": {
    "ExecuteTime": {
     "end_time": "2024-10-30T12:48:21.310620Z",
     "start_time": "2024-10-30T12:48:21.287891Z"
    }
   },
   "outputs": [],
   "source": [
    "# Define a function to calculate entropy for a given column\n",
    "def calculate_entropy(column):\n",
    "    # Calculate the frequency of each bin/category\n",
    "    value_counts = column.value_counts()\n",
    "    # Calculate the probability distribution\n",
    "    probabilities = value_counts / len(column)\n",
    "    # Calculate the entropy\n",
    "    return entropy(probabilities)\n",
    "\n",
    "# Group by 'Zyklus_Wartung'\n",
    "grouped = equipment.groupby('Zyklus Wartung')\n",
    "\n",
    "# Calculate entropy for lat and lon within each group\n",
    "entropy_results = []\n",
    "\n",
    "for name, group in grouped:\n",
    "    # Discretize lat and lon into bins\n",
    "    group['lat_bins'] = pd.cut(group['lat'], bins=10)\n",
    "    group['lon_bins'] = pd.cut(group['lon'], bins=10)\n",
    "    \n",
    "    # Calculate entropy for the binned lat and lon columns\n",
    "    lat_entropy = calculate_entropy(group['lat_bins'])\n",
    "    lon_entropy = calculate_entropy(group['lon_bins'])\n",
    "    \n",
    "    entropy_results.append({\n",
    "        'Zyklus_Wartung': name,\n",
    "        'lat_entropy': lat_entropy,\n",
    "        'lon_entropy': lon_entropy\n",
    "    })\n",
    "\n",
    "# Convert results to a DataFrame for better visualization\n",
    "entropy_df = pd.DataFrame(entropy_results)\n",
    "print(entropy_df)"
   ]
  },
  {
   "cell_type": "code",
   "execution_count": null,
   "metadata": {
    "ExecuteTime": {
     "end_time": "2024-10-30T12:48:21.378478Z",
     "start_time": "2024-10-30T12:48:21.368776Z"
    }
   },
   "outputs": [],
   "source": [
    "X_train = equipment[[\"Equipment\", \"lat\", \"lon\", \"incident_count\", \"Zyklus Wartung\"]].copy()\n",
    "X_train.dropna(axis=0, inplace=True)\n",
    "\n",
    "X_train.info()"
   ]
  },
  {
   "cell_type": "code",
   "execution_count": null,
   "metadata": {
    "ExecuteTime": {
     "end_time": "2024-10-30T12:48:21.441381Z",
     "start_time": "2024-10-30T12:48:21.434570Z"
    }
   },
   "outputs": [],
   "source": [
    "print(np.round(X_train.max(), 2), \"\\n\", np.round(X_train.min(), 2))"
   ]
  },
  {
   "cell_type": "code",
   "execution_count": null,
   "metadata": {
    "ExecuteTime": {
     "end_time": "2024-10-30T12:48:21.501323Z",
     "start_time": "2024-10-30T12:48:21.494971Z"
    }
   },
   "outputs": [],
   "source": [
    "# Separate the 'equipment_id' column\n",
    "equipment_id = X_train['Equipment']\n",
    "features = X_train.drop(columns=['Equipment'])\n",
    "# Add logarithmic transformation to zyklus wartung\n",
    "features['Zyklus Wartung'] = np.log1p(features['Zyklus Wartung'])"
   ]
  },
  {
   "cell_type": "code",
   "execution_count": null,
   "metadata": {
    "ExecuteTime": {
     "end_time": "2024-10-30T12:48:21.603861Z",
     "start_time": "2024-10-30T12:48:21.550591Z"
    }
   },
   "outputs": [],
   "source": [
    "features['Zyklus Wartung'].hist(bins=4)\n",
    "plt.xlabel(\"Zyklus Wartung\")\n",
    "plt.ylabel(\"Frequency\")\n",
    "\n",
    "plt.show()"
   ]
  },
  {
   "cell_type": "code",
   "execution_count": null,
   "metadata": {
    "ExecuteTime": {
     "end_time": "2024-10-30T12:48:21.666996Z",
     "start_time": "2024-10-30T12:48:21.656083Z"
    }
   },
   "outputs": [],
   "source": [
    "# Scale only the feature columns\n",
    "scaler = StandardScaler()\n",
    "features_scaled = scaler.fit_transform(features)\n",
    "features_scaled = pd.DataFrame(features_scaled, columns=features.columns)\n",
    "features_scaled[\"Zyklus Wartung\"] = features_scaled[\"Zyklus Wartung\"] * 0.3\n",
    "\n",
    "# Combine the scaled features with the 'equipment_id' column\n",
    "X_train_scaled = pd.concat([equipment_id.reset_index(drop=True), features_scaled], axis=1)"
   ]
  },
  {
   "cell_type": "code",
   "execution_count": null,
   "metadata": {
    "ExecuteTime": {
     "end_time": "2024-10-30T12:48:21.728290Z",
     "start_time": "2024-10-30T12:48:21.722561Z"
    }
   },
   "outputs": [],
   "source": [
    "# Define the parameter grid\n",
    "eps_values = np.arange(0.1, 1, 0.1)\n",
    "min_samples_values = range(30, 150, 10)\n",
    "\n",
    "print(\"Number of variations to test\", len(eps_values) * len(min_samples_values))"
   ]
  },
  {
   "cell_type": "code",
   "execution_count": null,
   "metadata": {
    "ExecuteTime": {
     "end_time": "2024-10-30T12:48:21.781757Z",
     "start_time": "2024-10-30T12:48:21.775392Z"
    }
   },
   "outputs": [],
   "source": [
    "def evaluate_dbscan(eps: int, min_samples: int, x: pd.DataFrame) -> Tuple[int, int, float, int]:\n",
    "    dbscan_gs = DBSCAN(eps=eps, min_samples=min_samples)\n",
    "    labels_gs = dbscan_gs.fit_predict(x)\n",
    "    \n",
    "    # Silhouette Score requires at least 2 clusters, however, 2 clusters is not useful for our case\n",
    "    if len(set(labels_gs)) > 2:\n",
    "        score = silhouette_score(x, labels_gs)\n",
    "    else:\n",
    "        score = -1  # Invalid score if less than 2 clusters are found\n",
    "    \n",
    "    return eps, min_samples, score, len(set(labels_gs))"
   ]
  },
  {
   "cell_type": "code",
   "execution_count": null,
   "metadata": {
    "ExecuteTime": {
     "end_time": "2024-10-30T12:48:21.890243Z",
     "start_time": "2024-10-30T12:48:21.883849Z"
    }
   },
   "outputs": [],
   "source": [
    "par = False\n",
    "if par: \n",
    "    # Perform parallel grid search\n",
    "    results = Parallel(n_jobs=-1)(delayed(evaluate_dbscan)(eps, min_samples, X_train_scaled[['lat', 'lon', 'incident_count', \"Zyklus Wartung\"]])\n",
    "                                  for eps in eps_values\n",
    "                                  for min_samples in min_samples_values)\n",
    "    \n",
    "    # Convert results to a DataFrame for easier analysis\n",
    "    results_df = pd.DataFrame(results, columns=['eps', 'min_samples', 'score', 'n_clusters'])\n",
    "    \n",
    "    # Display results\n",
    "    print(results_df)\n"
   ]
  },
  {
   "cell_type": "code",
   "execution_count": null,
   "metadata": {
    "ExecuteTime": {
     "end_time": "2024-10-30T12:48:21.901700Z",
     "start_time": "2024-10-30T12:48:21.895396Z"
    }
   },
   "outputs": [],
   "source": [
    "if par:   \n",
    "    # Run DBSCAN\n",
    "    # Identify the best combination of parameters\n",
    "    best_result = results_df.loc[results_df['score'].idxmax()]\n",
    "    print(best_result)\n",
    "    \n",
    "    dbscan = DBSCAN(eps=best_result[\"eps\"], min_samples=int(best_result[\"min_samples\"]))\n",
    "    # dbscan = DBSCAN(eps=0.3, min_samples=75)\n",
    "    labels = dbscan.fit_predict(X_train_scaled[['lat', 'lon', 'incident_count', \"Zyklus Wartung\"]])"
   ]
  },
  {
   "cell_type": "code",
   "execution_count": null,
   "metadata": {
    "ExecuteTime": {
     "end_time": "2024-10-30T12:48:21.957218Z",
     "start_time": "2024-10-30T12:48:21.953202Z"
    }
   },
   "outputs": [],
   "source": [
    "# from sklearn.cluster import KMeans\n",
    "# \n",
    "# # Define the parameter grid\n",
    "# n_clusters_values = range(2, 10)\n",
    "# \n",
    "# def evaluate_kmeans(n_clusters: int, X: pd.DataFrame) -> Tuple[int, float]:\n",
    "#     kmeans = KMeans(n_clusters=n_clusters)\n",
    "#     kmeans.fit(X)\n",
    "#     labels = kmeans.predict(X)\n",
    "#     score = silhouette_score(X, labels)\n",
    "#     return (n_clusters, score)\n",
    "# \n",
    "# # Perform parallel grid search\n",
    "# results = Parallel(n_jobs=-1)(delayed(evaluate_kmeans)(n_clusters, X_train[[\"lat\", \"lon\", \"weather_score\"]])\n",
    "#                               for n_clusters in n_clusters_values)\n",
    "# \n",
    "# # Convert results to a DataFrame for easier analysis\n",
    "# results_df = pd.DataFrame(results, columns=['n_clusters', 'score'])\n",
    "# \n",
    "# # Display results\n",
    "# print(results_df)"
   ]
  },
  {
   "cell_type": "code",
   "execution_count": null,
   "metadata": {
    "ExecuteTime": {
     "end_time": "2024-10-30T12:48:22.130686Z",
     "start_time": "2024-10-30T12:48:22.008014Z"
    }
   },
   "outputs": [],
   "source": [
    "dbscan = DBSCAN(eps=0.4, min_samples=60)\n",
    "labels = dbscan.fit_predict(X_train_scaled[['lat', 'lon', 'incident_count', \"Zyklus Wartung\"]])"
   ]
  },
  {
   "cell_type": "code",
   "execution_count": null,
   "metadata": {
    "ExecuteTime": {
     "end_time": "2024-10-30T12:48:22.203752Z",
     "start_time": "2024-10-30T12:48:22.196622Z"
    }
   },
   "outputs": [],
   "source": [
    "num_clusters = len(set(labels) - {-1})\n",
    "\n",
    "print(f\"Number of clusters: {num_clusters}\")"
   ]
  },
  {
   "cell_type": "code",
   "execution_count": null,
   "metadata": {
    "ExecuteTime": {
     "end_time": "2024-10-30T12:48:22.267013Z",
     "start_time": "2024-10-30T12:48:22.255231Z"
    }
   },
   "outputs": [],
   "source": [
    "X_train_scaled.loc[:, 'cluster'] = labels\n",
    "\n",
    "# Ensure 'Equipment' is of the same type in both DataFrames\n",
    "X_train['Equipment'] = X_train['Equipment'].astype(int)\n",
    "X_train_scaled['Equipment'] = X_train_scaled['Equipment'].astype(int)\n",
    "\n",
    "X_train = X_train.merge(X_train_scaled[['Equipment', 'cluster']], on='Equipment')"
   ]
  },
  {
   "cell_type": "code",
   "execution_count": null,
   "metadata": {
    "ExecuteTime": {
     "end_time": "2024-10-30T12:48:22.494070Z",
     "start_time": "2024-10-30T12:48:22.337944Z"
    }
   },
   "outputs": [],
   "source": [
    "noise_data = X_train_scaled[X_train_scaled['cluster'] == -1]\n",
    "non_noise_data = X_train_scaled[X_train_scaled['cluster'] != -1]\n",
    "\n",
    "# Create a 3D scatter plot using Plotly Graph Objects\n",
    "fig = go.Figure()\n",
    "\n",
    "# Add trace for non-noise clusters\n",
    "fig.add_trace(go.Scatter3d(\n",
    "    x=non_noise_data['lon'],\n",
    "    y=non_noise_data['lat'],\n",
    "    z=non_noise_data['incident_count'],\n",
    "    mode='markers',\n",
    "    marker=dict(\n",
    "        size=8,\n",
    "        color=non_noise_data['cluster'],  # Color by cluster\n",
    "        colorscale='Viridis',              # Color scale\n",
    "        opacity=0.8,\n",
    "        colorbar=dict(title='Cluster')\n",
    "    ),\n",
    "    text=non_noise_data['incident_count'],  # Hover text\n",
    "    hovertemplate='<b>Incident count:</b> %{text}<br><b>Lat:</b> %{y}<br><b>Lon:</b> %{x} <br><b>Cluster:</b> %{marker.color}'\n",
    "))\n",
    "\n",
    "# Add trace for noise cluster\n",
    "fig.add_trace(go.Scatter3d(\n",
    "    x=noise_data['lon'],\n",
    "    y=noise_data['lat'],\n",
    "    z=noise_data['incident_count'],\n",
    "    mode='markers',\n",
    "    marker=dict(\n",
    "        size=8,\n",
    "        color='purple',  # Color for noise points\n",
    "        opacity=0.01,\n",
    "    ),\n",
    "    text=noise_data['incident_count'],  # Hover text\n",
    "    hovertemplate='<b>Incident count:</b> %{text}<br><b>Lat:</b> %{y}<br><b>Lon:</b> %{x} <br><b>Cluster:</b> Noise'\n",
    "))\n",
    "\n",
    "# Update layout for better visualization\n",
    "fig.update_layout(\n",
    "    title='3D Scatter Plot of Equipment Clusters in Germany',\n",
    "    scene=dict(\n",
    "        xaxis=dict(title='Longitude'),\n",
    "        yaxis=dict(title='Latitude'),\n",
    "        zaxis=dict(title='Incident count'),\n",
    "        aspectmode='cube'  # Ensure aspect ratio is equal\n",
    "    )\n",
    ")\n",
    "\n",
    "fig.show()\n",
    "\n",
    "# Save the plot as an HTML file\n",
    "fig.write_html('../plots/clusters_incidents.html')"
   ]
  },
  {
   "cell_type": "code",
   "execution_count": null,
   "metadata": {
    "ExecuteTime": {
     "end_time": "2024-10-30T12:48:22.729557Z",
     "start_time": "2024-10-30T12:48:22.565776Z"
    }
   },
   "outputs": [],
   "source": [
    "\n",
    "# Create a 3D scatter plot using Plotly Graph Objects\n",
    "fig = go.Figure()\n",
    "\n",
    "# Add trace for non-noise clusters\n",
    "fig.add_trace(go.Scatter3d(\n",
    "    x=non_noise_data['lon'],\n",
    "    y=non_noise_data['lat'],\n",
    "    z=non_noise_data['Zyklus Wartung'],\n",
    "    mode='markers',\n",
    "    marker=dict(\n",
    "        size=8,\n",
    "        color=non_noise_data['cluster'],  # Color by cluster\n",
    "        colorscale='Viridis',              # Color scale\n",
    "        opacity=0.8,\n",
    "        colorbar=dict(title='Cluster')\n",
    "    ),\n",
    "    text=non_noise_data['Zyklus Wartung'],  # Hover text\n",
    "    hovertemplate='<b>Incident count:</b> %{text}<br><b>Lat:</b> %{y}<br><b>Lon:</b> %{x} <br><b>Cluster:</b> %{marker.color}'\n",
    "))\n",
    "\n",
    "# Add trace for noise cluster\n",
    "fig.add_trace(go.Scatter3d(\n",
    "    x=noise_data['lon'],\n",
    "    y=noise_data['lat'],\n",
    "    z=noise_data['Zyklus Wartung'],\n",
    "    mode='markers',\n",
    "    marker=dict(\n",
    "        size=8,\n",
    "        color='purple',  # Color for noise points\n",
    "        opacity=0.01,\n",
    "    ),\n",
    "    text=noise_data['Zyklus Wartung'],  # Hover text\n",
    "    hovertemplate='<b>Incident count:</b> %{text}<br><b>Lat:</b> %{y}<br><b>Lon:</b> %{x} <br><b>Cluster:</b> Noise'\n",
    "))\n",
    "\n",
    "# Update layout for better visualization\n",
    "fig.update_layout(\n",
    "    title='3D Scatter Plot of Equipment Clusters in Germany',\n",
    "    scene=dict(\n",
    "        xaxis=dict(title='Longitude'),\n",
    "        yaxis=dict(title='Latitude'),\n",
    "        zaxis=dict(title='Zyklus Wartung'),\n",
    "        aspectmode='cube'  # Ensure aspect ratio is equal\n",
    "    )\n",
    ")\n",
    "\n",
    "fig.show()\n",
    "\n",
    "# Save the plot as an HTML file\n",
    "fig.write_html('../plots/clusters_zyklus.html')"
   ]
  },
  {
   "cell_type": "code",
   "execution_count": null,
   "metadata": {
    "ExecuteTime": {
     "end_time": "2024-10-30T12:48:22.816263Z",
     "start_time": "2024-10-30T12:48:22.811186Z"
    }
   },
   "outputs": [],
   "source": [
    "reduce_maintenance_list = []\n",
    "increase_maintenance_list = []"
   ]
  },
  {
   "cell_type": "code",
   "execution_count": null,
   "metadata": {
    "ExecuteTime": {
     "end_time": "2024-10-30T12:48:22.910742Z",
     "start_time": "2024-10-30T12:48:22.900877Z"
    }
   },
   "outputs": [],
   "source": [
    "cluster_centers = X_train.groupby('cluster').agg({\n",
    "    'lat': 'mean',\n",
    "    'lon': 'mean',\n",
    "    'incident_count': 'mean',\n",
    "    'Zyklus Wartung': 'median'\n",
    "}).reset_index()\n",
    "cluster_centers = pd.DataFrame(cluster_centers)\n",
    "def reapply_zyklus(row):\n",
    "    cluster = row['cluster'].astype(int)\n",
    "    if cluster == -1:\n",
    "        return row\n",
    "    cluster_value = cluster_centers[cluster_centers['cluster'] == cluster]['Zyklus Wartung'].values[0]\n",
    "    if row['Zyklus Wartung'] != cluster_value:\n",
    "        if row['Zyklus Wartung'] > cluster_value:\n",
    "            reduce_maintenance_list.append(row['Equipment'])\n",
    "        else:\n",
    "            increase_maintenance_list.append(row['Equipment'])\n",
    "        row['Zyklus Wartung'] = cluster_value\n",
    "        return row\n",
    "    return row"
   ]
  },
  {
   "cell_type": "code",
   "execution_count": null,
   "metadata": {
    "ExecuteTime": {
     "end_time": "2024-10-30T12:48:24.318959Z",
     "start_time": "2024-10-30T12:48:22.983893Z"
    }
   },
   "outputs": [],
   "source": [
    "X_train = X_train.apply(reapply_zyklus, axis=1)"
   ]
  },
  {
   "cell_type": "code",
   "execution_count": null,
   "metadata": {
    "ExecuteTime": {
     "end_time": "2024-10-30T12:48:24.389951Z",
     "start_time": "2024-10-30T12:48:24.380670Z"
    }
   },
   "outputs": [],
   "source": [
    "print(X_train[X_train['Equipment'].isin(reduce_maintenance_list)])"
   ]
  },
  {
   "cell_type": "code",
   "execution_count": null,
   "metadata": {
    "ExecuteTime": {
     "end_time": "2024-10-30T12:48:24.507778Z",
     "start_time": "2024-10-30T12:48:24.444726Z"
    }
   },
   "outputs": [],
   "source": [
    "# Create a 3D scatter plot using Plotly Graph Objects\n",
    "fig = go.Figure()\n",
    "\n",
    "reduce_maintenance_equipment = X_train[X_train['Equipment'].isin(reduce_maintenance_list)]\n",
    "increase_maintenance_equipment = X_train[X_train['Equipment'].isin(increase_maintenance_list)]\n",
    "\n",
    "fig.add_trace(go.Scatter3d(\n",
    "    x=reduce_maintenance_equipment['lon'],\n",
    "    y=reduce_maintenance_equipment['lat'],\n",
    "    z=reduce_maintenance_equipment['incident_count'],\n",
    "    mode='markers',\n",
    "    marker=dict(\n",
    "        size=8,\n",
    "        color='green',\n",
    "        colorscale='Viridis',              # Color scale\n",
    "        opacity=0.8,\n",
    "        colorbar=dict(title='Cluster')\n",
    "    ),\n",
    "    text=reduce_maintenance_equipment['incident_count'],  # Hover text\n",
    "    hovertemplate='<b>Incident count:</b> %{text}<br><b>Lat:</b> %{y}<br><b>Lon:</b> %{x}'\n",
    "))\n",
    "\n",
    "fig.add_trace(go.Scatter3d(\n",
    "    x=increase_maintenance_equipment['lon'],\n",
    "    y=increase_maintenance_equipment['lat'],\n",
    "    z=increase_maintenance_equipment['incident_count'],\n",
    "    mode='markers',\n",
    "    marker=dict(\n",
    "        size=8,\n",
    "        color='red',\n",
    "        colorscale='Viridis',              # Color scale\n",
    "        opacity=0.8,\n",
    "        colorbar=dict(title='Cluster')\n",
    "    ),\n",
    "    text=increase_maintenance_equipment['incident_count'],  # Hover text\n",
    "    hovertemplate='<b>Incident count:</b> %{text}<br><b>Lat:</b> %{y}<br><b>Lon:</b> %{x}'\n",
    "))\n",
    "\n",
    "\n",
    "# Update layout for better visualization\n",
    "fig.update_layout(\n",
    "    title='3D Scatter Plot of Equipment Clusters in Germany',\n",
    "    scene=dict(\n",
    "        xaxis=dict(title='Longitude'),\n",
    "        yaxis=dict(title='Latitude'),\n",
    "        zaxis=dict(title='Incident count'),\n",
    "        aspectmode='cube'  # Ensure aspect ratio is equal\n",
    "    )\n",
    ")\n",
    "\n",
    "fig.show()\n",
    "\n",
    "# Save the plot as an HTML file\n",
    "fig.write_html('../plots/result_incidents.html')"
   ]
  },
  {
   "cell_type": "code",
   "execution_count": null,
   "metadata": {
    "ExecuteTime": {
     "end_time": "2024-10-30T12:48:24.666093Z",
     "start_time": "2024-10-30T12:48:24.581744Z"
    }
   },
   "outputs": [],
   "source": [
    "fig = go.Figure()\n",
    "\n",
    "fig.add_trace(go.Scatter3d(\n",
    "    x=reduce_maintenance_equipment['lon'],\n",
    "    y=reduce_maintenance_equipment['lat'],\n",
    "    z=reduce_maintenance_equipment['Zyklus Wartung'],\n",
    "    mode='markers',\n",
    "    marker=dict(\n",
    "        size=8,\n",
    "        color='green',\n",
    "        colorscale='Viridis',              # Color scale\n",
    "        opacity=0.8,\n",
    "        colorbar=dict(title='Cluster')\n",
    "    ),\n",
    "    text=reduce_maintenance_equipment['Zyklus Wartung'],  # Hover text\n",
    "    hovertemplate='<b>Zyklus Wartung:</b> %{text}<br><b>Lat:</b> %{y}<br><b>Lon:</b> %{x}'\n",
    "))\n",
    "\n",
    "fig.add_trace(go.Scatter3d(\n",
    "    x=increase_maintenance_equipment['lon'],\n",
    "    y=increase_maintenance_equipment['lat'],\n",
    "    z=increase_maintenance_equipment['Zyklus Wartung'],\n",
    "    mode='markers',\n",
    "    marker=dict(\n",
    "        size=8,\n",
    "        color='red',\n",
    "        colorscale='Viridis',              # Color scale\n",
    "        opacity=0.8,\n",
    "        colorbar=dict(title='Cluster')\n",
    "    ),\n",
    "    text=increase_maintenance_equipment['Zyklus Wartung'],  # Hover text\n",
    "    hovertemplate='<b>Zyklus Wartung:</b> %{text}<br><b>Lat:</b> %{y}<br><b>Lon:</b> %{x}'\n",
    "))\n",
    "\n",
    "\n",
    "# Update layout for better visualization\n",
    "fig.update_layout(\n",
    "    title='3D Scatter Plot of Equipment Clusters in Germany',\n",
    "    scene=dict(\n",
    "        xaxis=dict(title='Longitude'),\n",
    "        yaxis=dict(title='Latitude'),\n",
    "        zaxis=dict(title='Zyklus Wartung'),\n",
    "        aspectmode='cube'  # Ensure aspect ratio is equal\n",
    "    )\n",
    ")\n",
    "\n",
    "fig.show()\n",
    "\n",
    "# Save the plot as an HTML file\n",
    "fig.write_html('../plots/result_zyklus.html')"
   ]
  },
  {
   "cell_type": "code",
   "execution_count": null,
   "metadata": {
    "ExecuteTime": {
     "end_time": "2024-10-30T12:48:25.540527Z",
     "start_time": "2024-10-30T12:48:24.745783Z"
    }
   },
   "outputs": [],
   "source": [
    "# Assign colors\n",
    "increase_maintenance_equipment.loc[:, 'color'] = 'red'\n",
    "reduce_maintenance_equipment.loc[:, 'color'] = 'green'\n",
    "\n",
    "combined = pd.concat([reduce_maintenance_equipment, increase_maintenance_equipment])\n",
    "\n",
    "# Create the plot\n",
    "fig, ax = plt.subplots(figsize=(10, 10), subplot_kw={'projection': ccrs.PlateCarree()})\n",
    "\n",
    "# Add geographical features\n",
    "ax.add_feature(cfeature.BORDERS, linestyle='-')\n",
    "ax.add_feature(cfeature.LAND, facecolor='white')\n",
    "ax.add_feature(cfeature.OCEAN, facecolor='lightblue')\n",
    "ax.add_feature(cfeature.COASTLINE, zorder=5)\n",
    "\n",
    "# Plot data points\n",
    "for color, group in combined.groupby('color'):\n",
    "    print(f\"Plotting color: {color} with {len(group)} points\")  # Debugging statement\n",
    "    ax.scatter(group['lon'], group['lat'], color=color, s=100, alpha=0.7, transform=ccrs.PlateCarree())\n",
    "\n",
    "# Set plot title and extent\n",
    "ax.set_title('Equipment Clusters in Germany')\n",
    "ax.set_extent([5, 15, 47, 55], crs=ccrs.PlateCarree())\n",
    "\n",
    "# Add legend\n",
    "ax.legend(['Reduce Maintenance', 'Increase Maintenance'], loc='upper left')\n",
    "\n",
    "# Save the plot as an image\n",
    "plt.savefig('../plots/cluster_plot_incidents.svg', bbox_inches='tight')\n",
    "\n",
    "# Show the plot\n",
    "plt.show()"
   ]
  },
  {
   "cell_type": "code",
   "execution_count": null,
   "metadata": {
    "ExecuteTime": {
     "end_time": "2024-10-30T12:48:28.498160Z",
     "start_time": "2024-10-30T12:48:25.605206Z"
    }
   },
   "outputs": [],
   "source": [
    "from matplotlib.cm import ScalarMappable\n",
    "from matplotlib.colors import Normalize\n",
    "\n",
    "combined = X_train\n",
    "\n",
    "\n",
    "# Create the plot\n",
    "fig, ax = plt.subplots(figsize=(10, 10), subplot_kw={'projection': ccrs.PlateCarree()})\n",
    "\n",
    "# Add geographical features\n",
    "ax.add_feature(cfeature.BORDERS, linestyle='-')\n",
    "ax.add_feature(cfeature.LAND, facecolor='white')\n",
    "ax.add_feature(cfeature.OCEAN, facecolor='lightblue')\n",
    "ax.add_feature(cfeature.COASTLINE, zorder=5)\n",
    "\n",
    "# Normalize the color scale to the range of 'Zyklus Wartung'\n",
    "norm = Normalize(vmin=combined['Zyklus Wartung'].min(), vmax=combined['Zyklus Wartung'].max())\n",
    "\n",
    "# Plot data points\n",
    "scatter = ax.scatter(combined['lon'], combined['lat'], c=combined['Zyklus Wartung'], cmap='viridis', s=100, alpha=0.7, transform=ccrs.PlateCarree(), norm=norm)\n",
    "\n",
    "# Set plot title and extent\n",
    "ax.set_title('Equipment Clusters in Germany')\n",
    "ax.set_extent([5, 15, 47, 55], crs=ccrs.PlateCarree())\n",
    "\n",
    "# Create a color bar\n",
    "cbar = plt.colorbar(ScalarMappable(norm=norm, cmap='viridis'), ax=ax, orientation='vertical', pad=0.02, aspect=50)\n",
    "cbar.set_label('Zyklus Wartung')\n",
    "\n",
    "# Save the plot as an SVG image\n",
    "plt.savefig('../plots/cluster_plot_zyklus_after.svg', format='svg')\n",
    "\n",
    "# Show the plot\n",
    "plt.show()"
   ]
  },
  {
   "cell_type": "code",
   "execution_count": null,
   "metadata": {
    "ExecuteTime": {
     "end_time": "2024-10-30T12:48:28.631433Z",
     "start_time": "2024-10-30T12:48:28.565952Z"
    }
   },
   "outputs": [],
   "source": [
    "plt.figure(figsize=(5,11.8/2))\n",
    "filtered = X_train[X_train[\"Zyklus Wartung\"] == 1460]\n",
    "plt.scatter(filtered[\"lon\"], filtered[\"lat\"], s=5)\n",
    "plt.show()"
   ]
  },
  {
   "cell_type": "code",
   "execution_count": null,
   "metadata": {
    "ExecuteTime": {
     "end_time": "2024-10-30T12:48:30.409411Z",
     "start_time": "2024-10-30T12:48:28.685065Z"
    }
   },
   "outputs": [],
   "source": [
    "# Define a function to calculate entropy for a given column\n",
    "def calculate_entropy(column):\n",
    "    # Calculate the frequency of each bin/category\n",
    "    value_counts = column.value_counts()\n",
    "    # Calculate the probability distribution\n",
    "    probabilities = value_counts / len(column)\n",
    "    # Calculate the entropy\n",
    "    return entropy(probabilities)\n",
    "\n",
    "# Group by 'Zyklus_Wartung'\n",
    "grouped = X_train.groupby('Zyklus Wartung')\n",
    "\n",
    "# Calculate entropy for lat and lon within each group\n",
    "entropy_results = []\n",
    "\n",
    "for name, group in grouped:\n",
    "    # Discretize lat and lon into bins\n",
    "    group['lat_bins'] = pd.cut(group['lat'], bins=10000)\n",
    "    group['lon_bins'] = pd.cut(group['lon'], bins=10000)\n",
    "    \n",
    "    # Calculate entropy for the binned lat and lon columns\n",
    "    lat_entropy = calculate_entropy(group['lat_bins'])\n",
    "    lon_entropy = calculate_entropy(group['lon_bins'])\n",
    "    \n",
    "    entropy_results.append({\n",
    "        'Zyklus_Wartung': name,\n",
    "        'lat_entropy': lat_entropy,\n",
    "        'lon_entropy': lon_entropy\n",
    "    })\n",
    "\n",
    "# Convert results to a DataFrame for better visualization\n",
    "entropy_df_after = pd.DataFrame(entropy_results)\n",
    "print(entropy_df_after)"
   ]
  },
  {
   "cell_type": "code",
   "execution_count": null,
   "metadata": {
    "ExecuteTime": {
     "end_time": "2024-10-30T12:48:30.477867Z",
     "start_time": "2024-10-30T12:48:30.471911Z"
    }
   },
   "outputs": [],
   "source": [
    "print(entropy_df)"
   ]
  },
  {
   "cell_type": "code",
   "execution_count": null,
   "metadata": {
    "ExecuteTime": {
     "end_time": "2024-10-30T12:48:30.546718Z",
     "start_time": "2024-10-30T12:48:30.540002Z"
    }
   },
   "outputs": [],
   "source": [
    "# Calculate the difference\n",
    "entropy_diff = entropy_df_after.sub(entropy_df)\n",
    "\n",
    "# Display the result\n",
    "print(entropy_diff)"
   ]
  },
  {
   "cell_type": "code",
   "execution_count": null,
   "metadata": {
    "ExecuteTime": {
     "end_time": "2024-10-30T12:48:30.618879Z",
     "start_time": "2024-10-30T12:48:30.609062Z"
    }
   },
   "outputs": [],
   "source": [
    "from scipy.stats import ttest_rel\n",
    "\n",
    "# Assuming entropy_df and entropy_df_after are already defined DataFrames\n",
    "\n",
    "# Calculate the differences\n",
    "entropy_diff = entropy_df_after.sub(entropy_df)\n",
    "\n",
    "# Perform paired t-test for lat_entropy and lon_entropy\n",
    "lat_ttest = ttest_rel(entropy_df_after['lat_entropy'], entropy_df['lat_entropy'])\n",
    "lon_ttest = ttest_rel(entropy_df_after['lon_entropy'], entropy_df['lon_entropy'])\n",
    "\n",
    "print(f'Paired t-test for lat_entropy: t-statistic = {lat_ttest.statistic}, p-value = {lat_ttest.pvalue}')\n",
    "print(f'Paired t-test for lon_entropy: t-statistic = {lon_ttest.statistic}, p-value = {lon_ttest.pvalue}')"
   ]
  },
  {
   "cell_type": "code",
   "execution_count": null,
   "metadata": {
    "ExecuteTime": {
     "end_time": "2024-10-30T12:48:30.688416Z",
     "start_time": "2024-10-30T12:48:30.680352Z"
    }
   },
   "outputs": [],
   "source": [
    "# Berechnung der deskriptiven Statistiken für die bisherigen Wartungszyklen\n",
    "mean_before = equipment['Zyklus Wartung'].mean()\n",
    "median_before = equipment['Zyklus Wartung'].median()\n",
    "std_before = equipment['Zyklus Wartung'].std()\n",
    "\n",
    "print(\"Bisherige Wartungszyklen:\")\n",
    "print(f\"Mittelwert: {mean_before}\")\n",
    "print(f\"Median: {median_before}\")\n",
    "print(f\"Standardabweichung: {std_before}\")\n",
    "\n",
    "# Berechnung der deskriptiven Statistiken für die neuen Wartungszyklen\n",
    "mean_after = X_train['Zyklus Wartung'].mean()\n",
    "median_after = X_train['Zyklus Wartung'].median()\n",
    "std_after = X_train['Zyklus Wartung'].std()\n",
    "\n",
    "print(\"\\nNeue Wartungszyklen:\")\n",
    "print(f\"Mittelwert: {mean_after}\")\n",
    "print(f\"Median: {median_after}\")\n",
    "print(f\"Standardabweichung: {std_after}\")\n",
    "\n",
    "# Vergleich der Statistiken\n",
    "print(\"\\nVergleich der Wartungszyklen:\")\n",
    "print(f\"Änderung des Mittelwerts: {mean_after - mean_before}\")\n",
    "print(f\"Änderung des Medians: {median_after - median_before}\")\n",
    "print(f\"Änderung der Standardabweichung: {std_after - std_before}\")\n"
   ]
  },
  {
   "cell_type": "code",
   "execution_count": null,
   "metadata": {
    "ExecuteTime": {
     "end_time": "2024-10-30T12:48:30.807190Z",
     "start_time": "2024-10-30T12:48:30.749314Z"
    }
   },
   "outputs": [],
   "source": [
    "zyklen = equipment[\"Zyklus Wartung\"].value_counts().sort_index()\n",
    "print(zyklen)\n",
    "plt.bar(zyklen.index.astype(str), zyklen.values, align='center')\n",
    "plt.show()"
   ]
  },
  {
   "cell_type": "code",
   "execution_count": null,
   "metadata": {
    "ExecuteTime": {
     "end_time": "2024-10-30T12:48:30.969567Z",
     "start_time": "2024-10-30T12:48:30.917728Z"
    }
   },
   "outputs": [],
   "source": [
    "zyklen = X_train[\"Zyklus Wartung\"].value_counts().sort_index()\n",
    "print(zyklen)\n",
    "plt.bar(zyklen.index.astype(str), zyklen.values, align='center')\n",
    "plt.show()"
   ]
  },
  {
   "cell_type": "code",
   "execution_count": null,
   "metadata": {
    "ExecuteTime": {
     "end_time": "2024-10-30T12:48:30.997695Z",
     "start_time": "2024-10-30T12:48:30.990195Z"
    }
   },
   "outputs": [],
   "source": [
    "costs = {\n",
    "    180: 8,\n",
    "    365: 4,\n",
    "    730: 2,\n",
    "    1460: 1\n",
    "}\n",
    "\n",
    "X_train[\"cost\"] = X_train[\"Zyklus Wartung\"].map(costs)\n",
    "\n",
    "total_cost = X_train[\"cost\"].sum()\n",
    "print(total_cost)\n",
    "\n",
    "equipment[\"cost\"] = equipment[\"Zyklus Wartung\"].map(costs)\n",
    "\n",
    "total_cost_before = equipment[\"cost\"].sum()\n",
    "print(total_cost_before)"
   ]
  },
  {
   "cell_type": "code",
   "execution_count": null,
   "metadata": {
    "ExecuteTime": {
     "end_time": "2024-10-30T12:48:31.191839Z",
     "start_time": "2024-10-30T12:48:31.057758Z"
    }
   },
   "outputs": [],
   "source": [
    "# Function to calculate nearest neighbor distances\n",
    "def nearest_neighbor_distances(data):\n",
    "    tree = KDTree(data)\n",
    "    distances, _ = tree.query(data, k=2)  # k=2 because the nearest neighbor of each point is the point itself\n",
    "    return distances[:, 1]  # Exclude the zero distance to itself\n",
    "\n",
    "new_eq = equipment\n",
    "\n",
    "# Group by 'Zyklus Wartung'\n",
    "grouped = new_eq.groupby('Zyklus Wartung')\n",
    "\n",
    "# Calculate nearest neighbor distances for each group\n",
    "nn_results = []\n",
    "\n",
    "for name, group in grouped:\n",
    "    data = group[['lat', 'lon']].values\n",
    "    nn_distances = nearest_neighbor_distances(data)\n",
    "    \n",
    "    nn_results.append({\n",
    "        'Zyklus Wartung': name,\n",
    "        'nn_distances': nn_distances,\n",
    "        'mean_nn_distance': np.mean(nn_distances),\n",
    "        'median_nn_distance': np.median(nn_distances),\n",
    "        'std_nn_distance': np.std(nn_distances)\n",
    "    })\n",
    "\n",
    "# Convert results to a DataFrame for better visualization\n",
    "nn_df = pd.DataFrame(nn_results)\n",
    "print(nn_df)\n",
    "\n",
    "# Plotting the nearest neighbor distances\n",
    "for result in nn_results:\n",
    "    plt.hist(result['nn_distances'], bins=10, alpha=0.5, label=f\"Zyklus Wartung {result['Zyklus Wartung']}\")\n",
    "plt.xlabel('Nearest Neighbor Distance')\n",
    "plt.ylabel('Frequency')\n",
    "plt.title('Distribution of Nearest Neighbor Distances')\n",
    "plt.legend()\n",
    "plt.show()"
   ]
  },
  {
   "cell_type": "code",
   "execution_count": null,
   "metadata": {
    "ExecuteTime": {
     "end_time": "2024-10-30T12:48:55.371298Z",
     "start_time": "2024-10-30T12:48:55.229033Z"
    }
   },
   "outputs": [],
   "source": [
    "# Function to calculate nearest neighbor distances\n",
    "def nearest_neighbor_distances(data):\n",
    "    tree = KDTree(data)\n",
    "    distances, _ = tree.query(data, k=2)  # k=2 because the nearest neighbor of each point is the point itself\n",
    "    return distances[:, 1]  # Exclude the zero distance to itself\n",
    "\n",
    "new_eq = X_train\n",
    "\n",
    "# Group by 'Zyklus Wartung'\n",
    "grouped = new_eq.groupby('Zyklus Wartung')\n",
    "\n",
    "# Calculate nearest neighbor distances for each group\n",
    "nn_results = []\n",
    "\n",
    "for name, group in grouped:\n",
    "    data = group[['lat', 'lon']].values\n",
    "    nn_distances = nearest_neighbor_distances(data)\n",
    "    \n",
    "    nn_results.append({\n",
    "        'Zyklus Wartung': name,\n",
    "        'nn_distances': nn_distances,\n",
    "        'mean_nn_distance': np.mean(nn_distances),\n",
    "        'median_nn_distance': np.median(nn_distances),\n",
    "        'std_nn_distance': np.std(nn_distances)\n",
    "    })\n",
    "\n",
    "# Convert results to a DataFrame for better visualization\n",
    "nn_df = pd.DataFrame(nn_results)\n",
    "print(nn_df)\n",
    "\n",
    "# Plotting the nearest neighbor distances\n",
    "for result in nn_results:\n",
    "    plt.hist(result['nn_distances'], bins=10, alpha=0.5, label=f\"Zyklus Wartung {result['Zyklus Wartung']}\")\n",
    "plt.xlabel('Nearest Neighbor Distance')\n",
    "plt.ylabel('Frequency')\n",
    "plt.title('Distribution of Nearest Neighbor Distances')\n",
    "plt.legend()\n",
    "plt.show()"
   ]
  }
 ],
 "metadata": {
  "kernelspec": {
   "display_name": "venv",
   "language": "python",
   "name": "python3"
  },
  "language_info": {
   "codemirror_mode": {
    "name": "ipython",
    "version": 3
   },
   "file_extension": ".py",
   "mimetype": "text/x-python",
   "name": "python",
   "nbconvert_exporter": "python",
   "pygments_lexer": "ipython3",
   "version": "3.10.12"
  }
 },
 "nbformat": 4,
 "nbformat_minor": 2
}
