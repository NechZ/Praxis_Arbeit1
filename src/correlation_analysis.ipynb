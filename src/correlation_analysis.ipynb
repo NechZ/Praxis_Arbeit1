{
 "cells": [
  {
   "cell_type": "code",
   "execution_count": null,
   "metadata": {
    "ExecuteTime": {
     "end_time": "2024-10-11T07:31:40.977216Z",
     "start_time": "2024-10-11T07:31:40.973232Z"
    }
   },
   "outputs": [],
   "source": [
    "import pandas as pd\n",
    "import numpy as np\n",
    "import csv\n",
    "import matplotlib.pyplot as plt\n",
    "from scipy.interpolate import griddata\n",
    "from scipy.spatial import cKDTree\n",
    "\n",
    "from typing import Tuple"
   ]
  },
  {
   "cell_type": "code",
   "execution_count": null,
   "metadata": {
    "ExecuteTime": {
     "end_time": "2024-10-11T07:31:41.035447Z",
     "start_time": "2024-10-11T07:31:41.001216Z"
    }
   },
   "outputs": [],
   "source": [
    "incident_data = pd.read_csv(\"../data/Locker_Meldungen_Aufträge.csv\")"
   ]
  },
  {
   "cell_type": "code",
   "execution_count": null,
   "metadata": {
    "ExecuteTime": {
     "end_time": "2024-10-11T07:31:41.070284Z",
     "start_time": "2024-10-11T07:31:41.054973Z"
    }
   },
   "outputs": [],
   "source": [
    "incident_data.head()"
   ]
  },
  {
   "cell_type": "code",
   "execution_count": null,
   "metadata": {
    "ExecuteTime": {
     "end_time": "2024-10-11T07:31:41.136751Z",
     "start_time": "2024-10-11T07:31:41.119751Z"
    }
   },
   "outputs": [],
   "source": [
    "# CSV-Datei mit Postleitzahlen und Koordinaten einlesen\n",
    "plz_koordinaten = {}\n",
    "with open('../data/plz_geocoord.csv', mode='r') as infile:\n",
    "    reader = csv.reader(infile)\n",
    "    next(reader)  # Überspringe die Kopfzeile\n",
    "    for rows in reader:\n",
    "        plz, lat, lon = rows\n",
    "        plz_koordinaten[plz] = (float(lat), float(lon))"
   ]
  },
  {
   "cell_type": "code",
   "execution_count": null,
   "metadata": {
    "ExecuteTime": {
     "end_time": "2024-10-11T07:31:41.353693Z",
     "start_time": "2024-10-11T07:31:41.175638Z"
    }
   },
   "outputs": [],
   "source": [
    "# Funktion zum Nachschlagen der Koordinaten\n",
    "def get_coordinates(plz: str) -> Tuple[float, float]:\n",
    "    return plz_koordinaten.get(plz, (np.nan, np.nan))\n",
    "\n",
    "# Neue Spalten für Latitude und Longitude hinzufügen\n",
    "incident_data[['lat', 'lon']] = incident_data['Postleitzahl'].apply(get_coordinates).apply(pd.Series)"
   ]
  },
  {
   "cell_type": "code",
   "execution_count": null,
   "metadata": {
    "ExecuteTime": {
     "end_time": "2024-10-11T07:31:41.413860Z",
     "start_time": "2024-10-11T07:31:41.404691Z"
    }
   },
   "outputs": [],
   "source": [
    "equipment = incident_data.groupby(['lat', 'lon']).size().reset_index(name='count')\n",
    "\n",
    "equipment.info()"
   ]
  },
  {
   "cell_type": "code",
   "execution_count": null,
   "metadata": {
    "ExecuteTime": {
     "end_time": "2024-10-11T07:31:42.580342Z",
     "start_time": "2024-10-11T07:31:41.445857Z"
    }
   },
   "outputs": [],
   "source": [
    "# Create a grid of latitude and longitude values\n",
    "lat_values = np.linspace(equipment['lat'].min(), equipment['lat'].max(), 100)\n",
    "lon_values = np.linspace(equipment['lon'].min(), equipment['lon'].max(), 100)\n",
    "lat_grid, lon_grid = np.meshgrid(lat_values, lon_values)\n",
    "\n",
    "count_grid = griddata((equipment['lat'], equipment['lon']), equipment['count'], (lat_grid, lon_grid), method='linear')\n",
    "\n",
    "plt.figure(figsize=(5,5))\n",
    "plt.contourf(\n",
    "    lat_grid,\n",
    "    lon_grid,\n",
    "    count_grid,\n",
    "    cmap='coolwarm'\n",
    ")\n",
    "plt.colorbar(label='Incident count')\n",
    "\n",
    "plt.show()"
   ]
  },
  {
   "cell_type": "code",
   "execution_count": null,
   "metadata": {
    "ExecuteTime": {
     "end_time": "2024-10-11T07:31:42.609436Z",
     "start_time": "2024-10-11T07:31:42.600514Z"
    }
   },
   "outputs": [],
   "source": [
    "with open('../data/incident_data.csv', 'w') as outfile:\n",
    "    equipment.to_csv(outfile, index=False)"
   ]
  },
  {
   "cell_type": "code",
   "execution_count": null,
   "metadata": {
    "ExecuteTime": {
     "end_time": "2024-10-11T07:31:42.643937Z",
     "start_time": "2024-10-11T07:31:42.636862Z"
    }
   },
   "outputs": [],
   "source": [
    "weather_csv = pd.read_csv('../data/weather_scores.csv')"
   ]
  },
  {
   "cell_type": "code",
   "execution_count": null,
   "metadata": {
    "ExecuteTime": {
     "end_time": "2024-10-11T07:31:52.455067Z",
     "start_time": "2024-10-11T07:31:52.011618Z"
    }
   },
   "outputs": [],
   "source": [
    "# Load weather data from JSON\n",
    "weather_data = pd.DataFrame(weather_csv)\n",
    "\n",
    "# Interpolate Weather values for the grid (for visualization purposes)\n",
    "weather_grid = griddata((weather_data['lat'], weather_data['lon']), weather_data['weather_score_pca'], (lat_grid, lon_grid), method='linear')\n",
    "\n",
    "# Plot the Weather data\n",
    "plt.figure(figsize=(5, 5))\n",
    "plt.contourf(lat_grid, lon_grid, weather_grid, cmap='coolwarm')\n",
    "plt.colorbar(label='Weather score')\n",
    "plt.xlabel('Latitude')\n",
    "plt.ylabel('Longitude')\n",
    "plt.title('Weather score Contour Plot')\n",
    "plt.show()\n",
    "\n",
    "# Create a KDTree for fast nearest-neighbor lookup\n",
    "tree = cKDTree(weather_data[['lat', 'lon']])\n",
    "\n",
    "# Define a function to interpolate weather data based on latitude and longitude\n",
    "def interpolate_data(latitude, longitude, tree_object, data, k=3):\n",
    "    dist, idx = tree_object.query([latitude, longitude], k=k)  # Find the k nearest neighbors\n",
    "    # Handle cases where distance is zero (point is exactly at an incident location)\n",
    "    if np.any(dist == 0):\n",
    "        return data.iloc[idx[dist == 0]]['weather_score_pca'].values[0]\n",
    "    \n",
    "    if np.any(np.isnan(dist)):\n",
    "        return np.nan\n",
    "    \n",
    "    # Extract the weather of the nearest neighbors\n",
    "    nearest_score = data.iloc[idx]['weather_score_pca'].values\n",
    "    \n",
    "    # Inverse distance weighting\n",
    "    weights = 1 / dist\n",
    "    interpolated_data = np.dot(weights, nearest_score) / np.sum(weights)\n",
    "    return interpolated_data\n",
    "\n",
    "# Apply the interpolation\n",
    "equipment['weather_score'] = equipment.apply(lambda row: interpolate_data(row['lat'], row['lon'], tree, weather_data) if not np.isnan(row['lat']) and not np.isnan(row['lon']) else np.nan, axis=1)"
   ]
  },
  {
   "cell_type": "code",
   "execution_count": null,
   "metadata": {
    "ExecuteTime": {
     "end_time": "2024-10-11T07:31:43.324731400Z",
     "start_time": "2024-10-10T11:25:43.593958Z"
    }
   },
   "outputs": [],
   "source": [
    "pearson_corr = equipment['count'].corr(equipment['weather_score'])\n",
    "\n",
    "print(pearson_corr)"
   ]
  },
  {
   "cell_type": "code",
   "execution_count": null,
   "metadata": {
    "ExecuteTime": {
     "end_time": "2024-10-11T07:31:43.325697900Z",
     "start_time": "2024-10-10T13:33:14.971980Z"
    }
   },
   "outputs": [],
   "source": [
    "eq = pd.read_csv('../data/equipment.csv')\n",
    "eq.info()"
   ]
  },
  {
   "cell_type": "code",
   "execution_count": null,
   "metadata": {
    "ExecuteTime": {
     "end_time": "2024-10-11T07:31:43.325697900Z",
     "start_time": "2024-10-10T13:33:31.972966Z"
    }
   },
   "outputs": [],
   "source": [
    "unique_EquiArt = eq['EquiArt'].unique()\n",
    "for i in unique_EquiArt:\n",
    "    print(i)"
   ]
  }
 ],
 "metadata": {
  "kernelspec": {
   "display_name": "venv",
   "language": "python",
   "name": "python3"
  },
  "language_info": {
   "codemirror_mode": {
    "name": "ipython",
    "version": 3
   },
   "file_extension": ".py",
   "mimetype": "text/x-python",
   "name": "python",
   "nbconvert_exporter": "python",
   "pygments_lexer": "ipython3",
   "version": "3.11.3"
  }
 },
 "nbformat": 4,
 "nbformat_minor": 2
}
