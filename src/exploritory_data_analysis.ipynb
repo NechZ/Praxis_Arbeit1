{
 "cells": [
  {
   "cell_type": "code",
   "execution_count": null,
   "id": "initial_id",
   "metadata": {
    "ExecuteTime": {
     "end_time": "2024-10-18T11:51:49.629482Z",
     "start_time": "2024-10-18T11:51:48.623451Z"
    },
    "collapsed": true
   },
   "outputs": [],
   "source": [
    "from heapq import merge\n",
    "\n",
    "import pandas as pd\n",
    "import numpy as np\n",
    "import matplotlib.pyplot as plt\n",
    "from cartopy import crs as ccrs\n",
    "from cartopy import feature as cfeature"
   ]
  },
  {
   "cell_type": "code",
   "execution_count": null,
   "id": "dfcad76ed64eebdc",
   "metadata": {
    "ExecuteTime": {
     "end_time": "2024-10-18T11:51:49.708793Z",
     "start_time": "2024-10-18T11:51:49.639112Z"
    }
   },
   "outputs": [],
   "source": [
    "equipment_data = pd.read_csv('../data/equipment.csv')\n",
    "meldung_data = pd.read_csv('../data/Locker_Meldungen_Aufträge.csv')\n",
    "anzahl_meldungen = pd.read_csv('../data/Anzahl_Meldungen.csv', delimiter=';')\n",
    "kosten_data = pd.read_csv('../data/Locker_Kosten_Erlöse.csv')"
   ]
  },
  {
   "cell_type": "code",
   "execution_count": null,
   "id": "1f2aa13cb511e8d2",
   "metadata": {
    "ExecuteTime": {
     "end_time": "2024-10-18T11:51:49.909569Z",
     "start_time": "2024-10-18T11:51:49.888860Z"
    }
   },
   "outputs": [],
   "source": [
    "meldung_data.info()"
   ]
  },
  {
   "cell_type": "code",
   "execution_count": null,
   "id": "c0c1098d5604c068",
   "metadata": {
    "ExecuteTime": {
     "end_time": "2024-10-18T11:51:50.017030Z",
     "start_time": "2024-10-18T11:51:49.999537Z"
    }
   },
   "outputs": [],
   "source": [
    "meldung_data.head()"
   ]
  },
  {
   "cell_type": "code",
   "execution_count": null,
   "id": "7c9386f09d066f3d",
   "metadata": {
    "ExecuteTime": {
     "end_time": "2024-10-18T11:51:50.087582Z",
     "start_time": "2024-10-18T11:51:50.076599Z"
    }
   },
   "outputs": [],
   "source": [
    "equipment_data.info()"
   ]
  },
  {
   "cell_type": "code",
   "execution_count": null,
   "id": "dce615ab8899495f",
   "metadata": {
    "ExecuteTime": {
     "end_time": "2024-10-18T11:51:50.138584Z",
     "start_time": "2024-10-18T11:51:50.134351Z"
    }
   },
   "outputs": [],
   "source": [
    "def extract_id(old: pd.Series) -> pd.Series:\n",
    "    print(old.str.split(' ').str[1])\n",
    "    new = old.str.split(' ').str[1]\n",
    "    return new.astype(int)"
   ]
  },
  {
   "cell_type": "code",
   "execution_count": null,
   "id": "68a0149d647a361a",
   "metadata": {
    "ExecuteTime": {
     "end_time": "2024-10-18T11:51:50.182814Z",
     "start_time": "2024-10-18T11:51:50.175947Z"
    }
   },
   "outputs": [],
   "source": [
    "filter_i = meldung_data[\"Equipment\"].str.contains(\"LÖVM\")\n",
    "meldung_data = meldung_data[~filter_i]"
   ]
  },
  {
   "cell_type": "code",
   "execution_count": null,
   "id": "4d7b5d788857b1",
   "metadata": {
    "ExecuteTime": {
     "end_time": "2024-10-18T11:51:50.304744Z",
     "start_time": "2024-10-18T11:51:50.243522Z"
    }
   },
   "outputs": [],
   "source": [
    "anzahl_meldungen.Equipment = extract_id(anzahl_meldungen.Equipment)"
   ]
  },
  {
   "cell_type": "code",
   "execution_count": null,
   "id": "b3cbec26e8177ab5",
   "metadata": {
    "ExecuteTime": {
     "end_time": "2024-10-18T11:51:50.370161Z",
     "start_time": "2024-10-18T11:51:50.360216Z"
    }
   },
   "outputs": [],
   "source": [
    "meldung_data.Equipment = extract_id(meldung_data.Equipment)"
   ]
  },
  {
   "cell_type": "code",
   "execution_count": null,
   "id": "81379c1cab013853",
   "metadata": {
    "ExecuteTime": {
     "end_time": "2024-10-18T11:51:50.406341Z",
     "start_time": "2024-10-18T11:51:50.395135Z"
    }
   },
   "outputs": [],
   "source": [
    "meldung_data.info()"
   ]
  },
  {
   "cell_type": "code",
   "execution_count": null,
   "id": "d48dedc1500dfaad",
   "metadata": {
    "ExecuteTime": {
     "end_time": "2024-10-18T11:51:50.441088Z",
     "start_time": "2024-10-18T11:51:50.432835Z"
    }
   },
   "outputs": [],
   "source": [
    "anzahl_meldungen[\"Equipment\"].astype(int)\n",
    "anzahl_meldungen.info()"
   ]
  },
  {
   "cell_type": "code",
   "execution_count": null,
   "id": "dc3412af9fe6d30a",
   "metadata": {
    "ExecuteTime": {
     "end_time": "2024-10-18T11:51:50.471349Z",
     "start_time": "2024-10-18T11:51:50.466419Z"
    }
   },
   "outputs": [],
   "source": [
    "#anzahl_meldungen = meldung_data.groupby(\"Equipment\")[\"Meldung\"].count().reset_index()\n",
    "anzahl_meldungen.rename(columns={\"Anzahl Sätze\": \"Anzahl Meldungen\"}, inplace=True)"
   ]
  },
  {
   "cell_type": "code",
   "execution_count": null,
   "id": "a8002289e1e21593",
   "metadata": {
    "ExecuteTime": {
     "end_time": "2024-10-18T11:51:50.507896Z",
     "start_time": "2024-10-18T11:51:50.492731Z"
    }
   },
   "outputs": [],
   "source": [
    "merged_df = pd.merge(equipment_data, anzahl_meldungen, how='left', on='Equipment')"
   ]
  },
  {
   "cell_type": "code",
   "execution_count": null,
   "id": "6b4b793481b47f3",
   "metadata": {
    "ExecuteTime": {
     "end_time": "2024-10-18T11:51:50.537355Z",
     "start_time": "2024-10-18T11:51:50.533255Z"
    }
   },
   "outputs": [],
   "source": [
    "merged_df.rename(columns={\"Equipment\": \"Equipment ID\"}, inplace=True)"
   ]
  },
  {
   "cell_type": "code",
   "execution_count": null,
   "id": "725411f0142f8a25",
   "metadata": {
    "ExecuteTime": {
     "end_time": "2024-10-18T11:51:50.580646Z",
     "start_time": "2024-10-18T11:51:50.569412Z"
    }
   },
   "outputs": [],
   "source": [
    "merged_df.info()"
   ]
  },
  {
   "cell_type": "code",
   "execution_count": null,
   "id": "7df14559c0cac452",
   "metadata": {
    "ExecuteTime": {
     "end_time": "2024-10-18T11:51:50.672953Z",
     "start_time": "2024-10-18T11:51:50.667603Z"
    }
   },
   "outputs": [],
   "source": [
    "columns_to_keep = [\"Equipment ID\", \"Anzahl Meldungen\", \"lat\", \"lon\", \"Zyklus Wartung\"]\n",
    "merged_df = merged_df[columns_to_keep]"
   ]
  },
  {
   "cell_type": "code",
   "execution_count": null,
   "id": "6ef7791184a6368d",
   "metadata": {
    "ExecuteTime": {
     "end_time": "2024-10-18T11:51:50.704880Z",
     "start_time": "2024-10-18T11:51:50.700218Z"
    }
   },
   "outputs": [],
   "source": [
    "# Replace Zyklus Wartung with Numbers\n",
    "def zyklus_in_int(zyklus: str) -> int:\n",
    "    if zyklus == \"6M\":\n",
    "        zyklus = 6 * 30\n",
    "    elif zyklus == \"1J\":\n",
    "        zyklus = 365\n",
    "    elif zyklus == \"2J\":\n",
    "        zyklus = 365 * 2\n",
    "    elif zyklus == \"4J\":\n",
    "        zyklus = 365 * 4\n",
    "    return zyklus"
   ]
  },
  {
   "cell_type": "code",
   "execution_count": null,
   "id": "d9711a93a0e893aa",
   "metadata": {
    "ExecuteTime": {
     "end_time": "2024-10-18T11:51:50.735034Z",
     "start_time": "2024-10-18T11:51:50.728735Z"
    }
   },
   "outputs": [],
   "source": [
    "merged_df[\"Zyklus Wartung\"] = merged_df[\"Zyklus Wartung\"].apply(zyklus_in_int)"
   ]
  },
  {
   "cell_type": "code",
   "execution_count": null,
   "id": "1925349b78d04f78",
   "metadata": {
    "ExecuteTime": {
     "end_time": "2024-10-18T11:51:50.764770Z",
     "start_time": "2024-10-18T11:51:50.756448Z"
    }
   },
   "outputs": [],
   "source": [
    "print(np.round(merged_df.max(), 2), \"\\n\", np.round(merged_df.min(), 2))\n"
   ]
  },
  {
   "cell_type": "code",
   "execution_count": null,
   "id": "69fea14df8365ce7",
   "metadata": {
    "ExecuteTime": {
     "end_time": "2024-10-18T11:57:37.028951Z",
     "start_time": "2024-10-18T11:57:36.990278Z"
    }
   },
   "outputs": [],
   "source": [
    "merged_df.to_csv('../data/merged_data.csv', index=False)"
   ]
  }
 ],
 "metadata": {
  "kernelspec": {
   "display_name": "Python 3",
   "language": "python",
   "name": "python3"
  },
  "language_info": {
   "codemirror_mode": {
    "name": "ipython",
    "version": 2
   },
   "file_extension": ".py",
   "mimetype": "text/x-python",
   "name": "python",
   "nbconvert_exporter": "python",
   "pygments_lexer": "ipython2",
   "version": "2.7.6"
  }
 },
 "nbformat": 4,
 "nbformat_minor": 5
}
