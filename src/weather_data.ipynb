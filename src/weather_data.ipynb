{
 "cells": [
  {
   "cell_type": "code",
   "execution_count": null,
   "metadata": {},
   "outputs": [],
   "source": [
    "import pandas as pd\n",
    "import numpy as np\n",
    "import matplotlib.pyplot as plt\n",
    "from sklearn.cluster import KMeans\n",
    "from sklearn.decomposition import PCA\n",
    "\n",
    "import json\n",
    "import requests\n",
    "import time"
   ]
  },
  {
   "cell_type": "code",
   "execution_count": null,
   "metadata": {},
   "outputs": [],
   "source": [
    "equipment = pd.read_csv('../data/equipment.csv')\n",
    "equipment = equipment.dropna()"
   ]
  },
  {
   "cell_type": "code",
   "execution_count": null,
   "metadata": {},
   "outputs": [],
   "source": [
    "equipment.head()"
   ]
  },
  {
   "cell_type": "code",
   "execution_count": null,
   "metadata": {},
   "outputs": [],
   "source": [
    "n_clusters = 600\n",
    "\n",
    "kmeans = KMeans(n_clusters=n_clusters)\n",
    "kmeans.fit(equipment[['lat', 'lon']])\n",
    "\n",
    "equipment['cluster'] = kmeans.predict(equipment[['lat', 'lon']])\n",
    "\n",
    "fig, ax = plt.subplots()\n",
    "\n",
    "# Step 1: Create the Scatter Plot\n",
    "scatter = ax.scatter(equipment[\"lon\"], equipment[\"lat\"], c=equipment[\"cluster\"], cmap='viridis')\n",
    "\n",
    "# Step 2: Adjust the Map Settings\n",
    "ax.set_aspect('equal', adjustable='box')  # Ensure the aspect ratio is equal\n",
    "ax.set_xlim([min(equipment[\"lon\"]) - 1, max(equipment[\"lon\"]) + 1])  # Set longitude limits\n",
    "ax.set_ylim([min(equipment[\"lat\"]) - 1, max(equipment[\"lat\"]) + 1])  # Set latitude limits\n",
    "\n",
    "# Add labels and title\n",
    "ax.set_xlabel('Longitude')\n",
    "ax.set_ylabel('Latitude')\n",
    "ax.set_title('Cluster Scatter Plot')\n",
    "\n",
    "plt.show()"
   ]
  },
  {
   "cell_type": "code",
   "execution_count": null,
   "metadata": {},
   "outputs": [],
   "source": [
    "from dotenv import load_dotenv\n",
    "import os\n",
    "\n",
    "# Load environment variables from .env file\n",
    "load_dotenv()\n",
    "api_key = os.getenv('API_KEY')\n",
    "api_calls_per_minute = int(os.getenv('API_CALL_LIMIT'))"
   ]
  },
  {
   "cell_type": "code",
   "execution_count": null,
   "metadata": {},
   "outputs": [],
   "source": [
    "# Function to fetch weather data for a given location and date range\n",
    "def get_weather_data(lat, lon):\n",
    "    url = f'http://api.openweathermap.org/data/2.5/weather?lat={lat}&lon={lon}&appid={api_key}&units=metric'\n",
    "    response = requests.get(url)\n",
    "    data = response.json()\n",
    "    return data\n",
    "\n",
    "# Fetch data for each centroid\n",
    "weather_data = []\n",
    "\n",
    "iters = n_clusters // api_calls_per_minute\n",
    "remainder = n_clusters % api_calls_per_minute\n",
    "\n",
    "for i in range(iters):\n",
    "    for j in range(api_calls_per_minute):\n",
    "        cluster = i * api_calls_per_minute + j\n",
    "        lat = kmeans.cluster_centers_[cluster][0]\n",
    "        lon = kmeans.cluster_centers_[cluster][1]\n",
    "        data = get_weather_data(lat, lon)\n",
    "        weather_data.append(data)\n",
    "    if i < iters - 1:\n",
    "        time.sleep(60)\n",
    "\n",
    "for i in range(remainder):\n",
    "    cluster = iters * api_calls_per_minute + i\n",
    "    lat = kmeans.cluster_centers_[cluster][0]\n",
    "    lon = kmeans.cluster_centers_[cluster][1]\n",
    "    data = get_weather_data(lat, lon)\n",
    "    weather_data.append(data)"
   ]
  },
  {
   "cell_type": "code",
   "execution_count": null,
   "metadata": {},
   "outputs": [],
   "source": [
    "with open('../data/weather_data.json', 'w') as f:\n",
    "    json.dump(weather_data, f)"
   ]
  },
  {
   "cell_type": "code",
   "execution_count": null,
   "metadata": {},
   "outputs": [],
   "source": [
    "with open('../data/weather_data.json', 'r') as f:\n",
    "    weather_data = json.load(f)"
   ]
  },
  {
   "cell_type": "code",
   "execution_count": null,
   "metadata": {},
   "outputs": [],
   "source": [
    "sky_score_weights = {\n",
    "    'clear sky': 0.1,\n",
    "    'few clouds': 0.2,\n",
    "    'scattered clouds': 0.3,\n",
    "    'broken clouds': 0.4,\n",
    "    'overcast clouds': 0.5,\n",
    "    'mist': 0.6,\n",
    "    'light rain': 0.6,\n",
    "    'light intensity drizzle': 0.6,\n",
    "    'light intensity drizzle rain': 0.6,\n",
    "    'moderate rain': 0.7,\n",
    "    'light intensity shower rain': 0.8,\n",
    "    'shower rain': 0.8,\n",
    "    'heavy intensity rain': 0.9,\n",
    "    'very heavy rain': 1.0\n",
    "}\n",
    "\n",
    "weather_score_weights = {\n",
    "    'temperature': 0.5,\n",
    "    'humidity': 0.3,\n",
    "    'wind_speed': 0.2,\n",
    "    'rain': 0.5\n",
    "}"
   ]
  },
  {
   "cell_type": "code",
   "execution_count": null,
   "metadata": {},
   "outputs": [],
   "source": [
    "stations = pd.DataFrame()\n",
    "stations[['lat', 'lon']] = pd.DataFrame(kmeans.cluster_centers_)\n",
    "\n",
    "# Calculate weather score for each station\n",
    "weather_scores = []\n",
    "for station in weather_data:\n",
    "    sky_score = sky_score_weights[station['weather'][0]['description']]\n",
    "    temp_score = station['main']['temp'] * weather_score_weights['temperature']\n",
    "    humidity_score = station['main']['humidity'] * weather_score_weights['humidity']\n",
    "    wind_score = station['wind']['speed'] * weather_score_weights['wind_speed']\n",
    "    rain_score = station['rain']['1h'] * weather_score_weights['rain'] if 'rain' in station else 0\n",
    "    weather_score = sky_score + temp_score + humidity_score + wind_score + rain_score\n",
    "    weather_scores.append(weather_score)\n",
    "\n",
    "stations['weather_score'] = weather_scores\n",
    "\n",
    "stations.head()\n"
   ]
  },
  {
   "cell_type": "code",
   "execution_count": null,
   "metadata": {},
   "outputs": [],
   "source": [
    "# Weather score with PCA\n",
    "\n",
    "pca = PCA(n_components=1)\n",
    "features = ['sky', 'temp', 'humidity', 'wind', 'rain']\n",
    "\n",
    "weather_data_pca = []\n",
    "\n",
    "for station in weather_data:\n",
    "    sky = sky_score_weights[station['weather'][0]['description']]\n",
    "    temp = station['main']['temp']\n",
    "    humidity = station['main']['humidity']\n",
    "    wind = station['wind']['speed']\n",
    "    rain = station['rain']['1h'] if 'rain' in station else 0\n",
    "    weather_data_pca.append([sky, temp, humidity, wind, rain])\n",
    "\n",
    "weather_data_pca = pca.fit_transform(weather_data_pca)\n",
    "\n",
    "stations['weather_score_pca'] = weather_data_pca\n"
   ]
  },
  {
   "cell_type": "code",
   "execution_count": null,
   "metadata": {},
   "outputs": [],
   "source": [
    "with open('../data/weather_scores.csv', 'w') as f:\n",
    "    stations.to_csv(f, index=False)"
   ]
  },
  {
   "cell_type": "code",
   "execution_count": null,
   "metadata": {},
   "outputs": [],
   "source": [
    "loadings = pca.components_[0]\n",
    "\n",
    "for index, feature in enumerate(features):\n",
    "    print(f\"Feature {feature} contributes {loadings[index]} to the Principal component\")"
   ]
  }
 ],
 "metadata": {
  "kernelspec": {
   "display_name": "Python 3",
   "language": "python",
   "name": "python3"
  },
  "language_info": {
   "codemirror_mode": {
    "name": "ipython",
    "version": 3
   },
   "file_extension": ".py",
   "mimetype": "text/x-python",
   "name": "python",
   "nbconvert_exporter": "python",
   "pygments_lexer": "ipython3",
   "version": "3.11.3"
  }
 },
 "nbformat": 4,
 "nbformat_minor": 2
}
