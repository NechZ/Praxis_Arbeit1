{
 "cells": [
  {
   "cell_type": "code",
   "execution_count": null,
   "metadata": {
    "ExecuteTime": {
     "end_time": "2024-10-10T11:24:54.806349Z",
     "start_time": "2024-10-10T11:24:53.507976Z"
    }
   },
   "outputs": [],
   "source": [
    "# Import libraries\n",
    "import pandas as pd\n",
    "import numpy as np\n",
    "import csv\n",
    "import plotly.graph_objects as go\n",
    "import matplotlib.pyplot as plt\n",
    "from cartopy import crs as ccrs\n",
    "from cartopy import feature as cfeature\n",
    "from sklearn.cluster import DBSCAN, OPTICS\n",
    "from sklearn.preprocessing import LabelEncoder, StandardScaler\n",
    "from sklearn.decomposition import PCA\n",
    "from sklearn.metrics import silhouette_score\n",
    "from scipy.interpolate import griddata\n",
    "from scipy.spatial import cKDTree\n",
    "\n",
    "from joblib import Parallel, delayed\n",
    "from typing import List, Tuple"
   ]
  },
  {
   "cell_type": "code",
   "execution_count": null,
   "metadata": {
    "ExecuteTime": {
     "end_time": "2024-10-10T11:24:54.833817Z",
     "start_time": "2024-10-10T11:24:54.813348Z"
    }
   },
   "outputs": [],
   "source": [
    "# Load the data\n",
    "equipment = pd.read_csv('../data/equipment.csv', delimiter=',')"
   ]
  },
  {
   "cell_type": "code",
   "execution_count": null,
   "metadata": {
    "ExecuteTime": {
     "end_time": "2024-10-10T11:24:55.007605Z",
     "start_time": "2024-10-10T11:24:54.994941Z"
    }
   },
   "outputs": [],
   "source": [
    "equipment.info()"
   ]
  },
  {
   "cell_type": "code",
   "execution_count": null,
   "metadata": {
    "ExecuteTime": {
     "end_time": "2024-10-10T11:24:55.091761Z",
     "start_time": "2024-10-10T11:24:55.083628Z"
    }
   },
   "outputs": [],
   "source": [
    "equipment['Postleitzahl'] = equipment['Postleitzahl'].astype(str)\n",
    "\n",
    "def expand_plz(plz: str) -> str:\n",
    "    if len(plz) < 5:\n",
    "        return '0' + plz\n",
    "    return plz\n",
    "\n",
    "equipment['Postleitzahl'] = equipment['Postleitzahl'].apply(expand_plz)"
   ]
  },
  {
   "cell_type": "code",
   "execution_count": null,
   "metadata": {
    "ExecuteTime": {
     "end_time": "2024-10-10T11:24:55.132823Z",
     "start_time": "2024-10-10T11:24:55.123205Z"
    }
   },
   "outputs": [],
   "source": [
    "equipment.head()"
   ]
  },
  {
   "cell_type": "code",
   "execution_count": null,
   "metadata": {
    "ExecuteTime": {
     "end_time": "2024-10-10T11:24:55.214798Z",
     "start_time": "2024-10-10T11:24:55.199276Z"
    }
   },
   "outputs": [],
   "source": [
    "# CSV-Datei mit Postleitzahlen und Koordinaten einlesen\n",
    "plz_koordinaten = {}\n",
    "with open('../data/plz_geocoord.csv', mode='r') as infile:\n",
    "    reader = csv.reader(infile)\n",
    "    next(reader)  # Überspringe die Kopfzeile\n",
    "    for rows in reader:\n",
    "        plz, lat, lon = rows\n",
    "        plz_koordinaten[plz] = (float(lat), float(lon))\n"
   ]
  },
  {
   "cell_type": "code",
   "execution_count": null,
   "metadata": {
    "ExecuteTime": {
     "end_time": "2024-10-10T11:24:55.983626Z",
     "start_time": "2024-10-10T11:24:55.262349Z"
    }
   },
   "outputs": [],
   "source": [
    "# Funktion zum Nachschlagen der Koordinaten\n",
    "def get_coordinates(plz: str) -> Tuple[float, float]:\n",
    "    return plz_koordinaten.get(plz, (np.nan, np.nan))\n",
    "\n",
    "# Neue Spalten für Latitude und Longitude hinzufügen\n",
    "equipment[['lat', 'lon']] = equipment['Postleitzahl'].apply(get_coordinates).apply(pd.Series)"
   ]
  },
  {
   "cell_type": "code",
   "execution_count": null,
   "metadata": {
    "ExecuteTime": {
     "end_time": "2024-10-10T11:24:56.125382Z",
     "start_time": "2024-10-10T11:24:56.115542Z"
    }
   },
   "outputs": [],
   "source": [
    "equipment.head()"
   ]
  },
  {
   "cell_type": "code",
   "execution_count": null,
   "metadata": {
    "ExecuteTime": {
     "end_time": "2024-10-10T11:24:56.309306Z",
     "start_time": "2024-10-10T11:24:56.301097Z"
    }
   },
   "outputs": [],
   "source": [
    "weather_csv = pd.read_csv('../data/weather_scores.csv')"
   ]
  },
  {
   "cell_type": "code",
   "execution_count": null,
   "metadata": {
    "ExecuteTime": {
     "end_time": "2024-10-10T11:24:58.359060Z",
     "start_time": "2024-10-10T11:24:56.426108Z"
    }
   },
   "outputs": [],
   "source": [
    "# Load weather data from JSON\n",
    "weather_data = pd.DataFrame(weather_csv)\n",
    "\n",
    "# Create a grid of latitude and longitude values\n",
    "lat_values = np.linspace(equipment['lat'].min(), equipment['lat'].max(), 100)\n",
    "lon_values = np.linspace(equipment['lon'].min(), equipment['lon'].max(), 100)\n",
    "lat_grid, lon_grid = np.meshgrid(lat_values, lon_values)\n",
    "\n",
    "# Interpolate Weather values for the grid (for visualization purposes)\n",
    "weather_grid = griddata((weather_data['lat'], weather_data['lon']), weather_data['weather_score_pca'], (lat_grid, lon_grid), method='linear')\n",
    "\n",
    "# Plot the Weather data\n",
    "plt.figure(figsize=(5, 5))\n",
    "plt.contourf(lat_grid, lon_grid, weather_grid, cmap='coolwarm')\n",
    "plt.colorbar(label='Weather score')\n",
    "plt.xlabel('Latitude')\n",
    "plt.ylabel('Longitude')\n",
    "plt.title('Weather score Contour Plot')\n",
    "plt.show()\n",
    "\n",
    "# Create a KDTree for fast nearest-neighbor lookup\n",
    "tree = cKDTree(weather_data[['lat', 'lon']])\n",
    "\n",
    "# Define a function to interpolate weather data based on latitude and longitude\n",
    "def interpolate_data(latitude, longitude, tree_object, data, k=3):\n",
    "    dist, idx = tree_object.query([latitude, longitude], k=k)  # Find the k nearest neighbors\n",
    "    # Handle cases where distance is zero (point is exactly at an incident location)\n",
    "    if np.any(dist == 0):\n",
    "        return data.iloc[idx[dist == 0]]['weather_score_pca'].values[0]\n",
    "    \n",
    "    if np.any(np.isnan(dist)):\n",
    "        return np.nan\n",
    "    \n",
    "    # Extract the weather of the nearest neighbors\n",
    "    nearest_score = data.iloc[idx]['weather_score_pca'].values\n",
    "    \n",
    "    # Inverse distance weighting\n",
    "    weights = 1 / dist\n",
    "    interpolated_data = np.dot(weights, nearest_score) / np.sum(weights)\n",
    "    return interpolated_data\n",
    "\n",
    "# Apply the interpolation\n",
    "equipment['weather_score'] = equipment.apply(lambda row: interpolate_data(row['lat'], row['lon'], tree, weather_data) if not np.isnan(row['lat']) and not np.isnan(row['lon']) else np.nan, axis=1)"
   ]
  },
  {
   "cell_type": "code",
   "execution_count": null,
   "metadata": {
    "ExecuteTime": {
     "end_time": "2024-10-10T11:24:58.393128Z",
     "start_time": "2024-10-10T11:24:58.380609Z"
    }
   },
   "outputs": [],
   "source": [
    "equipment.info()"
   ]
  },
  {
   "cell_type": "code",
   "execution_count": null,
   "metadata": {
    "ExecuteTime": {
     "end_time": "2024-10-10T11:24:58.493999Z",
     "start_time": "2024-10-10T11:24:58.415209Z"
    }
   },
   "outputs": [],
   "source": [
    "with open('../data/equipment.csv', mode='w') as outfile:\n",
    "    equipment.to_csv(outfile, index=False)"
   ]
  },
  {
   "cell_type": "code",
   "execution_count": null,
   "metadata": {
    "ExecuteTime": {
     "end_time": "2024-10-10T11:24:58.525005Z",
     "start_time": "2024-10-10T11:24:58.515562Z"
    }
   },
   "outputs": [],
   "source": [
    "X_train = equipment[[\"Equipment\", \"lat\", \"lon\", \"weather_score\"]].copy()\n",
    "X_train.dropna(axis=0, inplace=True)\n",
    "\n",
    "X_train.info()"
   ]
  },
  {
   "cell_type": "code",
   "execution_count": null,
   "metadata": {
    "ExecuteTime": {
     "end_time": "2024-10-10T11:24:58.545401Z",
     "start_time": "2024-10-10T11:24:58.540810Z"
    }
   },
   "outputs": [],
   "source": [
    "# # Scale all features\n",
    "# scaler = StandardScaler()\n",
    "# X_train_scaled = scaler.fit_transform(X_train)\n",
    "\n",
    "# X_train = pd.DataFrame(X_train_scaled, columns=X_train.columns)"
   ]
  },
  {
   "cell_type": "code",
   "execution_count": null,
   "metadata": {
    "ExecuteTime": {
     "end_time": "2024-10-10T11:24:58.573411Z",
     "start_time": "2024-10-10T11:24:58.568277Z"
    }
   },
   "outputs": [],
   "source": [
    "# Define the parameter grid\n",
    "eps_values = np.arange(0.5, 2, 0.1)\n",
    "min_samples_values = range(75, 200, 10)\n",
    "\n",
    "print(\"Number of variations to test\", len(eps_values) * len(min_samples_values))"
   ]
  },
  {
   "cell_type": "code",
   "execution_count": null,
   "metadata": {
    "ExecuteTime": {
     "end_time": "2024-10-10T11:24:58.685514Z",
     "start_time": "2024-10-10T11:24:58.679998Z"
    }
   },
   "outputs": [],
   "source": [
    "def evaluate_dbscan(eps: int, min_samples: int, X: pd.DataFrame) -> Tuple[int, int, float]:\n",
    "    dbscan = DBSCAN(eps=eps, min_samples=min_samples)\n",
    "    labels = dbscan.fit_predict(X)\n",
    "    \n",
    "    # Silhouette Score requires at least 2 clusters, however, 2 clusters is not useful for our case\n",
    "    if len(set(labels)) > 2:\n",
    "        score = silhouette_score(X, labels)\n",
    "    else:\n",
    "        score = -1  # Invalid score if less than 2 clusters are found\n",
    "    \n",
    "    return (eps, min_samples, score, len(set(labels)))"
   ]
  },
  {
   "cell_type": "code",
   "execution_count": null,
   "metadata": {
    "ExecuteTime": {
     "end_time": "2024-10-10T11:24:58.720121Z",
     "start_time": "2024-10-10T11:24:58.715821Z"
    }
   },
   "outputs": [],
   "source": [
    "# # Perform parallel grid search\n",
    "# results = Parallel(n_jobs=-1)(delayed(evaluate_dbscan)(eps, min_samples, X_train[[\"lat\", \"lon\", \"weather_score\"]])\n",
    "#                               for eps in eps_values\n",
    "#                               for min_samples in min_samples_values)\n",
    "\n",
    "# # Convert results to a DataFrame for easier analysis\n",
    "# results_df = pd.DataFrame(results, columns=['eps', 'min_samples', 'score', 'n_clusters'])\n",
    "\n",
    "# # Display results\n",
    "# print(results_df)"
   ]
  },
  {
   "cell_type": "code",
   "execution_count": null,
   "metadata": {
    "ExecuteTime": {
     "end_time": "2024-10-10T11:24:58.780839Z",
     "start_time": "2024-10-10T11:24:58.777234Z"
    }
   },
   "outputs": [],
   "source": [
    "# # Run DBSCAN\n",
    "# # Identify the best combination of parameters\n",
    "# best_result = results_df.loc[results_df['score'].idxmax()]\n",
    "# print(best_result)\n",
    "\n",
    "# dbscan = DBSCAN(eps=best_result[\"eps\"], min_samples=int(best_result[\"min_samples\"]))\n",
    "# # dbscan = DBSCAN(eps=0.3, min_samples=75)\n",
    "# labels = dbscan.fit_predict(X_train[['lat', 'lon', 'weather_score']])\n"
   ]
  },
  {
   "cell_type": "code",
   "execution_count": null,
   "metadata": {
    "ExecuteTime": {
     "end_time": "2024-10-10T11:24:58.792205Z",
     "start_time": "2024-10-10T11:24:58.788846Z"
    }
   },
   "outputs": [],
   "source": [
    "# from sklearn.cluster import KMeans\n",
    "\n",
    "# # Define the parameter grid\n",
    "# n_clusters_values = range(2, 10)\n",
    "\n",
    "# def evaluate_kmeans(n_clusters: int, X: pd.DataFrame) -> Tuple[int, float]:\n",
    "#     kmeans = KMeans(n_clusters=n_clusters)\n",
    "#     kmeans.fit(X)\n",
    "#     labels = kmeans.predict(X)\n",
    "#     score = silhouette_score(X, labels)\n",
    "#     return (n_clusters, score)\n",
    "\n",
    "# # Perform parallel grid search\n",
    "# results = Parallel(n_jobs=-1)(delayed(evaluate_kmeans)(n_clusters, X_train[[\"lat\", \"lon\", \"weather_score\"]])\n",
    "#                               for n_clusters in n_clusters_values)\n",
    "\n",
    "# # Convert results to a DataFrame for easier analysis\n",
    "# results_df = pd.DataFrame(results, columns=['n_clusters', 'score'])\n",
    "\n",
    "# # Display results\n",
    "# print(results_df)"
   ]
  },
  {
   "cell_type": "code",
   "execution_count": null,
   "metadata": {
    "ExecuteTime": {
     "end_time": "2024-10-10T11:24:58.974781Z",
     "start_time": "2024-10-10T11:24:58.810532Z"
    }
   },
   "outputs": [],
   "source": [
    "dbscan = DBSCAN(eps=0.9, min_samples=120)\n",
    "labels = dbscan.fit_predict(X_train[['lat', 'lon', 'weather_score']])"
   ]
  },
  {
   "cell_type": "code",
   "execution_count": null,
   "metadata": {
    "ExecuteTime": {
     "end_time": "2024-10-10T11:24:59.002019Z",
     "start_time": "2024-10-10T11:24:58.996581Z"
    }
   },
   "outputs": [],
   "source": [
    "num_clusters = len(set(labels) - {-1})\n",
    "\n",
    "print(f\"Number of clusters: {num_clusters}\")"
   ]
  },
  {
   "cell_type": "code",
   "execution_count": null,
   "metadata": {
    "ExecuteTime": {
     "end_time": "2024-10-10T11:24:59.033442Z",
     "start_time": "2024-10-10T11:24:59.027443Z"
    }
   },
   "outputs": [],
   "source": [
    "X_train.loc[:, 'cluster'] = labels"
   ]
  },
  {
   "cell_type": "code",
   "execution_count": null,
   "metadata": {
    "ExecuteTime": {
     "end_time": "2024-10-10T11:24:59.447316Z",
     "start_time": "2024-10-10T11:24:59.062731Z"
    }
   },
   "outputs": [],
   "source": [
    "noise_data = X_train[X_train['cluster'] == -1]\n",
    "non_noise_data = X_train[X_train['cluster'] != -1]\n",
    "\n",
    "# Create a 3D scatter plot using Plotly Graph Objects\n",
    "fig = go.Figure()\n",
    "\n",
    "# Add trace for non-noise clusters\n",
    "fig.add_trace(go.Scatter3d(\n",
    "    x=non_noise_data['lon'],\n",
    "    y=non_noise_data['lat'],\n",
    "    z=non_noise_data['weather_score'],\n",
    "    mode='markers',\n",
    "    marker=dict(\n",
    "        size=8,\n",
    "        color=non_noise_data['cluster'],  # Color by cluster\n",
    "        colorscale='Viridis',              # Color scale\n",
    "        opacity=0.8,\n",
    "        colorbar=dict(title='Cluster')\n",
    "    ),\n",
    "    text=non_noise_data['weather_score'],  # Hover text\n",
    "    hovertemplate='<b>Weather Score:</b> %{text}<br><b>Lat:</b> %{y}<br><b>Lon:</b> %{x}'\n",
    "))\n",
    "\n",
    "# Add trace for noise cluster\n",
    "fig.add_trace(go.Scatter3d(\n",
    "    x=noise_data['lon'],\n",
    "    y=noise_data['lat'],\n",
    "    z=noise_data['weather_score'],\n",
    "    mode='markers',\n",
    "    marker=dict(\n",
    "        size=8,\n",
    "        color='purple',  # Color for noise points\n",
    "        opacity=0.01,\n",
    "    ),\n",
    "    text=noise_data['weather_score'],  # Hover text\n",
    "    hovertemplate='<b>Weather Score:</b> %{text}<br><b>Lat:</b> %{y}<br><b>Lon:</b> %{x}'\n",
    "))\n",
    "\n",
    "# Update layout for better visualization\n",
    "fig.update_layout(\n",
    "    title='3D Scatter Plot of Equipment Clusters in Germany',\n",
    "    scene=dict(\n",
    "        xaxis=dict(title='Longitude'),\n",
    "        yaxis=dict(title='Latitude'),\n",
    "        zaxis=dict(title='Weather Score'),\n",
    "        aspectmode='cube'  # Ensure aspect ratio is equal\n",
    "    )\n",
    ")\n",
    "\n",
    "fig.show()\n",
    "\n",
    "# Save the plot as an HTML file\n",
    "fig.write_html('../plots/weather_clusters.html')"
   ]
  },
  {
   "cell_type": "code",
   "execution_count": null,
   "metadata": {
    "ExecuteTime": {
     "end_time": "2024-10-10T11:24:59.740916Z",
     "start_time": "2024-10-10T11:24:59.729383Z"
    }
   },
   "outputs": [],
   "source": [
    "# Calculate centroid of each cluster\n",
    "cluster_centers = X_train.groupby('cluster')[['lat', 'lon', 'weather_score']].mean().reset_index()\n",
    "\n",
    "reduce_maintenance = []\n",
    "increase_maintenance = []\n",
    "\n",
    "for centroid in cluster_centers.itertuples():\n",
    "    if centroid.cluster == -1:\n",
    "        continue\n",
    "    if centroid.weather_score > 5:\n",
    "        increase_maintenance.append(centroid)\n",
    "    elif centroid.weather_score < -5:\n",
    "        reduce_maintenance.append(centroid)\n",
    "\n",
    "reduce_maintenance = pd.DataFrame(reduce_maintenance).drop(columns=['Index'])\n",
    "increase_maintenance = pd.DataFrame(increase_maintenance).drop(columns=['Index'])"
   ]
  },
  {
   "cell_type": "code",
   "execution_count": null,
   "metadata": {
    "ExecuteTime": {
     "end_time": "2024-10-10T11:24:59.815432Z",
     "start_time": "2024-10-10T11:24:59.750924Z"
    }
   },
   "outputs": [],
   "source": [
    "# Create a 3D scatter plot using Plotly Graph Objects\n",
    "fig = go.Figure()\n",
    "\n",
    "reduce_maintenance_equipment = X_train[X_train['cluster'].isin(reduce_maintenance['cluster'])]\n",
    "increase_maintenance_equipment = X_train[X_train['cluster'].isin(increase_maintenance['cluster'])]\n",
    "\n",
    "fig.add_trace(go.Scatter3d(\n",
    "    x=reduce_maintenance_equipment['lon'],\n",
    "    y=reduce_maintenance_equipment['lat'],\n",
    "    z=reduce_maintenance_equipment['weather_score'],\n",
    "    mode='markers',\n",
    "    marker=dict(\n",
    "        size=8,\n",
    "        color='green',\n",
    "        colorscale='Viridis',              # Color scale\n",
    "        opacity=0.8,\n",
    "        colorbar=dict(title='Cluster')\n",
    "    ),\n",
    "    text=reduce_maintenance_equipment['weather_score'],  # Hover text\n",
    "    hovertemplate='<b>Weather Score:</b> %{text}<br><b>Lat:</b> %{y}<br><b>Lon:</b> %{x}'\n",
    "))\n",
    "\n",
    "fig.add_trace(go.Scatter3d(\n",
    "    x=increase_maintenance_equipment['lon'],\n",
    "    y=increase_maintenance_equipment['lat'],\n",
    "    z=increase_maintenance_equipment['weather_score'],\n",
    "    mode='markers',\n",
    "    marker=dict(\n",
    "        size=8,\n",
    "        color='red',\n",
    "        colorscale='Viridis',              # Color scale\n",
    "        opacity=0.8,\n",
    "        colorbar=dict(title='Cluster')\n",
    "    ),\n",
    "    text=increase_maintenance_equipment['weather_score'],  # Hover text\n",
    "    hovertemplate='<b>Weather Score:</b> %{text}<br><b>Lat:</b> %{y}<br><b>Lon:</b> %{x}'\n",
    "))\n",
    "\n",
    "\n",
    "# Update layout for better visualization\n",
    "fig.update_layout(\n",
    "    title='3D Scatter Plot of Equipment Clusters in Germany',\n",
    "    scene=dict(\n",
    "        xaxis=dict(title='Longitude'),\n",
    "        yaxis=dict(title='Latitude'),\n",
    "        zaxis=dict(title='Weather Score'),\n",
    "        aspectmode='cube'  # Ensure aspect ratio is equal\n",
    "    )\n",
    ")\n",
    "\n",
    "fig.show()\n",
    "\n",
    "# Save the plot as an HTML file\n",
    "fig.write_html('../plots/weather_result.html')"
   ]
  },
  {
   "cell_type": "code",
   "execution_count": null,
   "metadata": {
    "ExecuteTime": {
     "end_time": "2024-10-10T11:25:17.152168Z",
     "start_time": "2024-10-10T11:25:16.600565Z"
    }
   },
   "outputs": [],
   "source": [
    "# Assign colors\n",
    "increase_maintenance_equipment.loc[:, 'color'] = 'red'\n",
    "reduce_maintenance_equipment.loc[:, 'color'] = 'green'\n",
    "\n",
    "combined = pd.concat([reduce_maintenance_equipment, increase_maintenance_equipment])\n",
    "\n",
    "# Create the plot\n",
    "fig, ax = plt.subplots(figsize=(10, 10), subplot_kw={'projection': ccrs.PlateCarree()})\n",
    "\n",
    "# Add geographical features\n",
    "ax.add_feature(cfeature.BORDERS, linestyle='-')\n",
    "ax.add_feature(cfeature.LAND, facecolor='white')\n",
    "ax.add_feature(cfeature.OCEAN, facecolor='lightblue')\n",
    "ax.add_feature(cfeature.COASTLINE, zorder=5)\n",
    "\n",
    "# Plot data points\n",
    "for color, group in combined.groupby('color'):\n",
    "    ax.scatter(group['lon'], group['lat'], color=color, s=100, alpha=0.7, transform=ccrs.PlateCarree())\n",
    "\n",
    "# Set plot title and extent\n",
    "ax.set_title('Equipment Clusters in Germany')\n",
    "ax.set_extent([5, 15, 47, 55], crs=ccrs.PlateCarree())\n",
    "\n",
    "# Add legend\n",
    "ax.legend(['Reduce Maintenance', 'Increase Maintenance'], loc='upper left')\n",
    "\n",
    "# Save the plot as an image\n",
    "plt.savefig('../plots/cluster_plot_weather.png', bbox_inches='tight')\n",
    "\n",
    "# Show the plot\n",
    "plt.show()"
   ]
  }
 ],
 "metadata": {
  "kernelspec": {
   "display_name": "Python 3",
   "language": "python",
   "name": "python3"
  },
  "language_info": {
   "codemirror_mode": {
    "name": "ipython",
    "version": 3
   },
   "file_extension": ".py",
   "mimetype": "text/x-python",
   "name": "python",
   "nbconvert_exporter": "python",
   "pygments_lexer": "ipython3",
   "version": "3.11.3"
  }
 },
 "nbformat": 4,
 "nbformat_minor": 2
}
